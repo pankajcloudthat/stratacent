{
  "cells": [
    {
      "attachments": {},
      "cell_type": "markdown",
      "metadata": {
        "id": "I7mayY2Ivy2h"
      },
      "source": [
        "### Lists\n",
        "***"
      ]
    },
    {
      "cell_type": "code",
      "execution_count": null,
      "metadata": {
        "colab": {
          "base_uri": "https://localhost:8080/"
        },
        "id": "JvW6pHatv6nS",
        "outputId": "d750c34a-303c-413b-bbeb-e528c5ad5bfe"
      },
      "outputs": [],
      "source": [
        "student_list = [\n",
        "    [1,2,3,4,5],\n",
        "    [\"Ram\",\"Rani\",\"Yash\",\"Lalit\",\"Priyadarshini\"],\n",
        "    5]"
      ]
    },
    {
      "cell_type": "code",
      "execution_count": null,
      "metadata": {},
      "outputs": [],
      "source": [
        "print(\"Roll No.\\t Name of Student\")\n",
        "print(\"-\"*35)\n",
        "for i in range(student_list[2]):\n",
        "    print(student_list[0][i], \"\\t\\t\", student_list[1][i])"
      ]
    },
    {
      "cell_type": "code",
      "execution_count": null,
      "metadata": {},
      "outputs": [],
      "source": [
        "student_list[-2][-1]"
      ]
    },
    {
      "cell_type": "code",
      "execution_count": null,
      "metadata": {
        "colab": {
          "base_uri": "https://localhost:8080/"
        },
        "id": "gktMGSVB1Lg4",
        "outputId": "43896699-37e3-4af9-a594-1967e5799fc9"
      },
      "outputs": [],
      "source": [
        "cars=['Suzuki','Ford','Honda']\n",
        "print(cars)\n",
        "\n",
        "cars[-2]='Tata NEXON EV'\n",
        "print(cars)"
      ]
    },
    {
      "cell_type": "code",
      "execution_count": null,
      "metadata": {
        "colab": {
          "base_uri": "https://localhost:8080/"
        },
        "id": "TTK8Rtl310ql",
        "outputId": "bb10ffd2-5356-4f51-dcc5-615276277da2"
      },
      "outputs": [],
      "source": [
        "cars='suzuki'\n",
        "cars[0]='S'\n",
        "#print(cars[0])"
      ]
    },
    {
      "cell_type": "code",
      "execution_count": null,
      "metadata": {
        "colab": {
          "base_uri": "https://localhost:8080/"
        },
        "id": "v0guMIMq2PK-",
        "outputId": "2d41d795-4e51-4053-b6fa-1ef3a42f979a"
      },
      "outputs": [],
      "source": [
        "a=[1,2,3,4,5,6,7,8,9]\n",
        "print(a[1:6:2])"
      ]
    },
    {
      "cell_type": "code",
      "execution_count": null,
      "metadata": {
        "colab": {
          "base_uri": "https://localhost:8080/"
        },
        "id": "v8utk_5E2wwU",
        "outputId": "554a8d9d-569f-4f43-cf9f-7c676f99bf1e"
      },
      "outputs": [],
      "source": [
        "a=[]\n",
        "print(type(a))\n",
        "a"
      ]
    },
    {
      "attachments": {},
      "cell_type": "markdown",
      "metadata": {
        "id": "05sFQIHX3DDQ"
      },
      "source": [
        "Methods and Functions with list"
      ]
    },
    {
      "cell_type": "code",
      "execution_count": null,
      "metadata": {
        "colab": {
          "base_uri": "https://localhost:8080/"
        },
        "id": "nhxOkLwy3MHK",
        "outputId": "3fa6a110-4b9f-482b-cf98-e7d80d6d2d6c"
      },
      "outputs": [],
      "source": [
        "#Concatenation\n",
        "a=[1,2,3]\n",
        "b=[4,5,6]\n",
        "a+b"
      ]
    },
    {
      "cell_type": "code",
      "execution_count": null,
      "metadata": {
        "colab": {
          "base_uri": "https://localhost:8080/"
        },
        "id": "24ORmyGu3cRh",
        "outputId": "2cffb2a5-73f3-4fd4-81d2-ef75668a16ef"
      },
      "outputs": [],
      "source": [
        "print(a*5)"
      ]
    },
    {
      "cell_type": "code",
      "execution_count": null,
      "metadata": {
        "colab": {
          "base_uri": "https://localhost:8080/"
        },
        "id": "Inhz4qVg3KZ_",
        "outputId": "8d3694c7-be6b-4325-8e66-2e216ba465c7"
      },
      "outputs": [],
      "source": [
        "zipped = list(zip(a,b))\n",
        "print(zipped)\n",
        "sumab = [sum(k) for k in zipped]\n",
        "sumab"
      ]
    },
    {
      "cell_type": "code",
      "execution_count": null,
      "metadata": {},
      "outputs": [],
      "source": [
        "slist = list(zip(student_list[0], student_list[1]))\n",
        "\n",
        "for r, n in slist:\n",
        "    print(r, n)"
      ]
    },
    {
      "cell_type": "code",
      "execution_count": null,
      "metadata": {},
      "outputs": [],
      "source": [
        "len(a)\n",
        "print(a)"
      ]
    },
    {
      "cell_type": "code",
      "execution_count": null,
      "metadata": {
        "colab": {
          "base_uri": "https://localhost:8080/"
        },
        "id": "3ZfVK9rD4t7v",
        "outputId": "6e62e4bd-66db-4124-b3d7-602b11ebf3ce"
      },
      "outputs": [],
      "source": [
        "c=[]\n",
        "sum = 0\n",
        "for i in range(0,len(a)):\n",
        "  sum += a[i]\n",
        "  c.append(sum)\n",
        "\n",
        "print(sum)"
      ]
    },
    {
      "cell_type": "code",
      "execution_count": null,
      "metadata": {
        "colab": {
          "base_uri": "https://localhost:8080/"
        },
        "id": "PCP_Zkyr5w24",
        "outputId": "d5abf8c2-e510-4cff-ccab-05a57dd99169"
      },
      "outputs": [],
      "source": [
        "a = [0,1,2,3,4,5,6,7,8,9]\n",
        "print(a[::])\n",
        "print(a[::-1])\n",
        "print(a[-3::2])\n",
        "print(a[-3:-1:])\n",
        "print(a[-1:-8:-2])"
      ]
    },
    {
      "cell_type": "code",
      "execution_count": null,
      "metadata": {
        "colab": {
          "base_uri": "https://localhost:8080/"
        },
        "id": "xgw3Zs40-mXn",
        "outputId": "6804bd9b-2c20-4304-a41a-b4f2621c47a1"
      },
      "outputs": [],
      "source": [
        "print(len([1,2,3,4,8,9]))\n",
        "print(['Hello']*3)"
      ]
    },
    {
      "cell_type": "code",
      "execution_count": null,
      "metadata": {
        "colab": {
          "base_uri": "https://localhost:8080/"
        },
        "id": "jmmBPN8_-7A8",
        "outputId": "d31f10a6-45d5-4b83-c39c-7f75f0a05317"
      },
      "outputs": [],
      "source": [
        "print(13 in [1,2,3])\n",
        "for x in [1,2,3,4]:\n",
        "  print(x)"
      ]
    },
    {
      "cell_type": "code",
      "execution_count": null,
      "metadata": {
        "id": "YlDEv5mS_ZkW"
      },
      "outputs": [],
      "source": [
        "a=[0,1,2,3]"
      ]
    },
    {
      "cell_type": "code",
      "execution_count": null,
      "metadata": {
        "colab": {
          "base_uri": "https://localhost:8080/"
        },
        "id": "tYg88fmi_cnZ",
        "outputId": "38025da8-d211-48ca-ff49-f946b0d358ff"
      },
      "outputs": [],
      "source": [
        "print(dir(a))"
      ]
    },
    {
      "cell_type": "code",
      "execution_count": null,
      "metadata": {
        "colab": {
          "base_uri": "https://localhost:8080/"
        },
        "id": "7RhdG2-p_nLj",
        "outputId": "e06180a6-d5c3-4d98-d9c4-41db8359993b"
      },
      "outputs": [],
      "source": [
        "a.append(5)\n",
        "a"
      ]
    },
    {
      "cell_type": "code",
      "execution_count": null,
      "metadata": {
        "colab": {
          "base_uri": "https://localhost:8080/"
        },
        "id": "R7O4wE9I_2dX",
        "outputId": "993314c3-8cb5-424f-fe23-77091414eb99"
      },
      "outputs": [],
      "source": [
        "a.append(\"pankaj\")\n",
        "a"
      ]
    },
    {
      "cell_type": "code",
      "execution_count": null,
      "metadata": {
        "colab": {
          "base_uri": "https://localhost:8080/"
        },
        "id": "G9CUKBk7AD7a",
        "outputId": "f927f56a-260a-4a40-d61c-05bd7a13158c"
      },
      "outputs": [],
      "source": [
        "a.pop()"
      ]
    },
    {
      "cell_type": "code",
      "execution_count": null,
      "metadata": {
        "colab": {
          "base_uri": "https://localhost:8080/"
        },
        "id": "qPl6cLlTAKwz",
        "outputId": "663860bc-2253-4884-a0ac-c2cbc2f7f825"
      },
      "outputs": [],
      "source": [
        "a"
      ]
    },
    {
      "cell_type": "code",
      "execution_count": null,
      "metadata": {
        "id": "yAWMmuZJAPzK"
      },
      "outputs": [],
      "source": [
        "a.append(6)"
      ]
    },
    {
      "cell_type": "code",
      "execution_count": null,
      "metadata": {
        "colab": {
          "base_uri": "https://localhost:8080/"
        },
        "id": "8RPKYWcGAW4h",
        "outputId": "05ab030e-3ece-4048-da96-be675713227e"
      },
      "outputs": [],
      "source": [
        "a"
      ]
    },
    {
      "cell_type": "code",
      "execution_count": null,
      "metadata": {
        "colab": {
          "base_uri": "https://localhost:8080/"
        },
        "id": "4N8OgpSQAaa1",
        "outputId": "d0acdedd-1505-424b-8003-446d5b2bc29a"
      },
      "outputs": [],
      "source": [
        "a.pop(4)\n",
        "a"
      ]
    },
    {
      "cell_type": "code",
      "execution_count": null,
      "metadata": {
        "colab": {
          "base_uri": "https://localhost:8080/"
        },
        "id": "pMZXn44pBICG",
        "outputId": "555c39e2-15b6-4f74-982a-f5a52bed7d16"
      },
      "outputs": [],
      "source": [
        "a=[1,2,3,4,50,-3]\n",
        "a.count('a')"
      ]
    },
    {
      "cell_type": "code",
      "execution_count": null,
      "metadata": {
        "colab": {
          "base_uri": "https://localhost:8080/"
        },
        "id": "FzG4HQWrBQf6",
        "outputId": "df3f36e1-e073-4d0f-9e99-e98f68e706d8"
      },
      "outputs": [],
      "source": [
        "print(len(a))\n",
        "print(max(a))\n",
        "print(min(a))"
      ]
    },
    {
      "cell_type": "code",
      "execution_count": null,
      "metadata": {
        "colab": {
          "base_uri": "https://localhost:8080/"
        },
        "id": "KaDCU-vRBkAc",
        "outputId": "5460aa9b-e57b-498b-995b-687d45fda8b3"
      },
      "outputs": [],
      "source": [
        "a"
      ]
    },
    {
      "cell_type": "code",
      "execution_count": null,
      "metadata": {
        "id": "bp8RsO7MBm1I"
      },
      "outputs": [],
      "source": [
        "a.insert(1,1000)"
      ]
    },
    {
      "cell_type": "code",
      "execution_count": null,
      "metadata": {
        "colab": {
          "base_uri": "https://localhost:8080/"
        },
        "id": "F_uclUpcBwJ3",
        "outputId": "2832dac1-c602-40cc-b340-f59a33033b60"
      },
      "outputs": [],
      "source": [
        "a"
      ]
    },
    {
      "cell_type": "code",
      "execution_count": null,
      "metadata": {
        "id": "7HbcBEPiB0YD"
      },
      "outputs": [],
      "source": [
        "a.append(1000)"
      ]
    },
    {
      "cell_type": "code",
      "execution_count": null,
      "metadata": {
        "colab": {
          "base_uri": "https://localhost:8080/"
        },
        "id": "vrktTbNyB29a",
        "outputId": "f54ef903-2955-45c4-9ca0-5741f16008fe"
      },
      "outputs": [],
      "source": [
        "a"
      ]
    },
    {
      "cell_type": "code",
      "execution_count": null,
      "metadata": {
        "id": "xRUMV01bCA_g"
      },
      "outputs": [],
      "source": [
        "a.remove(1000)"
      ]
    },
    {
      "cell_type": "code",
      "execution_count": null,
      "metadata": {
        "colab": {
          "base_uri": "https://localhost:8080/"
        },
        "id": "xBZWZC_YCEjF",
        "outputId": "72a241d5-87b2-4471-994a-ec2867792241"
      },
      "outputs": [],
      "source": [
        "a"
      ]
    },
    {
      "cell_type": "code",
      "execution_count": null,
      "metadata": {
        "id": "VXNgzekXCu9X"
      },
      "outputs": [],
      "source": [
        "list1=[123,'xyz',\"zara\",13.5]\n",
        "list1.append(2022)"
      ]
    },
    {
      "cell_type": "code",
      "execution_count": null,
      "metadata": {
        "id": "nBSUNuxtC8Mf"
      },
      "outputs": [],
      "source": [
        "list1.append(123)"
      ]
    },
    {
      "cell_type": "code",
      "execution_count": null,
      "metadata": {
        "colab": {
          "base_uri": "https://localhost:8080/"
        },
        "id": "Js7vyEk0DBs6",
        "outputId": "a0ab8817-3e54-4ce7-ba81-80ae0e11194b"
      },
      "outputs": [],
      "source": [
        "list1.count(123)"
      ]
    },
    {
      "cell_type": "code",
      "execution_count": null,
      "metadata": {
        "colab": {
          "base_uri": "https://localhost:8080/"
        },
        "id": "jLJYoB_1DHrX",
        "outputId": "d9e1d4c5-0ba3-4ed4-8ceb-6cc94fdcecbd"
      },
      "outputs": [],
      "source": [
        "list2=[2021,\"AXES\"]\n",
        "list1.extend(list2)\n",
        "list1"
      ]
    },
    {
      "cell_type": "code",
      "execution_count": null,
      "metadata": {
        "colab": {
          "base_uri": "https://localhost:8080/"
        },
        "id": "c5HlKA3fDkCJ",
        "outputId": "8bd949fb-fc53-45a6-9e30-11caea023481"
      },
      "outputs": [],
      "source": [
        "list1.sort()"
      ]
    },
    {
      "cell_type": "code",
      "execution_count": null,
      "metadata": {
        "colab": {
          "base_uri": "https://localhost:8080/"
        },
        "id": "zig_onPADs2W",
        "outputId": "d3cec2b4-4b22-43e5-c439-28dcbc86df0c"
      },
      "outputs": [],
      "source": [
        "list1=[10, 11,9,22]\n",
        "list1.sort()\n",
        "list1"
      ]
    },
    {
      "cell_type": "code",
      "execution_count": null,
      "metadata": {
        "colab": {
          "base_uri": "https://localhost:8080/"
        },
        "id": "2ywQuYUTEBX9",
        "outputId": "92b7182c-a6b3-49db-dc7e-f6cf01192aa6"
      },
      "outputs": [],
      "source": [
        "fruits =[\"banana\",\"apple\",\"kiwi\"]\n",
        "fruits.sort()\n",
        "fruits"
      ]
    },
    {
      "cell_type": "code",
      "execution_count": null,
      "metadata": {
        "id": "_p9XjseyFA1s"
      },
      "outputs": [],
      "source": [
        "fruits[1]=\"orange\""
      ]
    },
    {
      "cell_type": "code",
      "execution_count": null,
      "metadata": {
        "colab": {
          "base_uri": "https://localhost:8080/"
        },
        "id": "yafjEgyeFGA6",
        "outputId": "7b8b013b-09aa-4d53-b01b-d9a3f060c8a6"
      },
      "outputs": [],
      "source": [
        "fruits"
      ]
    },
    {
      "cell_type": "code",
      "execution_count": null,
      "metadata": {
        "colab": {
          "base_uri": "https://localhost:8080/"
        },
        "id": "9XFh8M1sEWHa",
        "outputId": "61dc6781-cdbd-4209-83e4-9baf2d1fe92f"
      },
      "outputs": [],
      "source": [
        "list1=[123, 'xyz', 'zara', 13.5, 2022, 123, 2021, 'KPMG']\n",
        "list1.reverse()\n",
        "list1"
      ]
    },
    {
      "cell_type": "code",
      "execution_count": null,
      "metadata": {},
      "outputs": [],
      "source": [
        "x, y = 10, 20\n",
        "print(x)\n",
        "print(y)"
      ]
    },
    {
      "cell_type": "code",
      "execution_count": null,
      "metadata": {
        "colab": {
          "base_uri": "https://localhost:8080/"
        },
        "id": "Vcsmu1FWEs7b",
        "outputId": "d099ca9c-e855-4d0d-8049-c363f4c981ab"
      },
      "outputs": [],
      "source": [
        "list1 , list2 = [1,2,3,4], [1,2]\n",
        "print(list1)\n",
        "print(list2)"
      ]
    },
    {
      "attachments": {},
      "cell_type": "markdown",
      "metadata": {},
      "source": [
        "Shallow Copy and Deep Copy"
      ]
    },
    {
      "cell_type": "code",
      "execution_count": null,
      "metadata": {},
      "outputs": [],
      "source": [
        "old_list = [[1, 2, 3], [4, 5, 6], [7, 8, 'a']]\n",
        "new_list = old_list\n",
        "\n",
        "new_list[2][2] = 9\n",
        "\n",
        "print('Old List:', old_list)\n",
        "print('ID of Old List:', id(old_list))\n",
        "\n",
        "print('New List:', new_list)\n",
        "print('ID of New List:', id(new_list))"
      ]
    },
    {
      "attachments": {},
      "cell_type": "markdown",
      "metadata": {},
      "source": [
        "Shallow Copy\n",
        "\n",
        "A shallow copy creates a new object which stores the reference of the original elements."
      ]
    },
    {
      "cell_type": "code",
      "execution_count": null,
      "metadata": {},
      "outputs": [],
      "source": [
        "import copy\n",
        "\n",
        "old_list = [[1, 2, 3], [4, 5, 6], [7, 8, 9]]\n",
        "new_list = copy.copy(old_list)\n",
        "\n",
        "old_list[2][2] = 'a'\n",
        "\n",
        "old_list.append([0,0,0])\n",
        "\n",
        "new_list.append([1,1,1])\n",
        "\n",
        "print(\"Old list:\", old_list)\n",
        "print('ID of New List:', id(old_list))\n",
        "print(\"New list:\", new_list)\n",
        "print('ID of New List:', id(new_list))"
      ]
    },
    {
      "attachments": {},
      "cell_type": "markdown",
      "metadata": {},
      "source": [
        "Deep Copy\n",
        "\n",
        "A deep copy creates a new object and recursively adds the copies of nested objects present in the original elements."
      ]
    },
    {
      "cell_type": "code",
      "execution_count": null,
      "metadata": {},
      "outputs": [],
      "source": [
        "import copy\n",
        "\n",
        "old_list = [[1, 1, 1], [2, 2, 2], [3, 3, 3]]\n",
        "new_list = copy.deepcopy(old_list)\n",
        "\n",
        "old_list[1][0] = 'BB'\n",
        "\n",
        "print(\"Old list:\", old_list)\n",
        "print(\"New list:\", new_list)"
      ]
    },
    {
      "attachments": {},
      "cell_type": "markdown",
      "metadata": {
        "id": "F55QVsMBHXjW"
      },
      "source": [
        "***\n",
        "# Tuples"
      ]
    },
    {
      "cell_type": "code",
      "execution_count": null,
      "metadata": {
        "colab": {
          "base_uri": "https://localhost:8080/"
        },
        "id": "42PrwyCqHcr6",
        "outputId": "c38a086f-ff72-40c3-c96f-323be2835bd7"
      },
      "outputs": [],
      "source": [
        "a=()\n",
        "print(type(a))"
      ]
    },
    {
      "cell_type": "code",
      "execution_count": null,
      "metadata": {
        "id": "ZwfPgynxHppP"
      },
      "outputs": [],
      "source": [
        "a=(1,2,3,\"abc\",12.4,12+3j)"
      ]
    },
    {
      "cell_type": "code",
      "execution_count": null,
      "metadata": {
        "colab": {
          "base_uri": "https://localhost:8080/",
          "height": 165
        },
        "id": "jony2EnWHz-f",
        "outputId": "9a335ed8-e6e1-4d98-9b7d-bb46c8e684c7"
      },
      "outputs": [],
      "source": [
        "a[1]=5"
      ]
    },
    {
      "cell_type": "code",
      "execution_count": null,
      "metadata": {
        "id": "voRwGtkGH8Ig"
      },
      "outputs": [],
      "source": [
        "print(a[1])"
      ]
    },
    {
      "cell_type": "code",
      "execution_count": null,
      "metadata": {
        "id": "z_E3wHZGIDs7"
      },
      "outputs": [],
      "source": [
        "a"
      ]
    },
    {
      "cell_type": "code",
      "execution_count": null,
      "metadata": {
        "id": "B5tPGQ2GIFOb"
      },
      "outputs": [],
      "source": [
        "print(a[::])"
      ]
    },
    {
      "cell_type": "code",
      "execution_count": null,
      "metadata": {
        "id": "qVNhT3doILwc"
      },
      "outputs": [],
      "source": [
        "print(a[::-1])"
      ]
    },
    {
      "cell_type": "code",
      "execution_count": null,
      "metadata": {
        "id": "IlirMBinIbr4"
      },
      "outputs": [],
      "source": [
        "a.append(5)"
      ]
    },
    {
      "cell_type": "code",
      "execution_count": null,
      "metadata": {
        "id": "JZQz8w8fIv1N"
      },
      "outputs": [],
      "source": [
        "dir(a)"
      ]
    },
    {
      "cell_type": "code",
      "execution_count": null,
      "metadata": {
        "id": "M9EqchWrJFGY"
      },
      "outputs": [],
      "source": [
        "a=(1,2,3,4,[10,20,30],8,9)\n",
        "a[4][2]=25\n",
        "print(a)"
      ]
    },
    {
      "cell_type": "code",
      "execution_count": null,
      "metadata": {
        "id": "HMkDR4GhJadi"
      },
      "outputs": [],
      "source": [
        "a[1]=30"
      ]
    },
    {
      "cell_type": "code",
      "execution_count": null,
      "metadata": {
        "id": "IHLtMqJOJmPQ"
      },
      "outputs": [],
      "source": [
        "a[4].append(40)\n",
        "a"
      ]
    },
    {
      "cell_type": "code",
      "execution_count": null,
      "metadata": {
        "id": "b4BiYsLZJw5V"
      },
      "outputs": [],
      "source": [
        "a[4].pop()\n",
        "a"
      ]
    },
    {
      "cell_type": "code",
      "execution_count": null,
      "metadata": {
        "id": "UkraBQRPJ9qh"
      },
      "outputs": [],
      "source": [
        "tup1=(1,2,3,4,6,7)\n",
        "print(len(tup1))\n",
        "print(max(tup1))\n",
        "print(min(tup1))"
      ]
    },
    {
      "cell_type": "code",
      "execution_count": null,
      "metadata": {
        "id": "utR9cKmlKg_B"
      },
      "outputs": [],
      "source": [
        "X,Y=(4,9)\n",
        "print(Y)"
      ]
    },
    {
      "attachments": {},
      "cell_type": "markdown",
      "metadata": {
        "id": "xBT3fiGaLZ7p"
      },
      "source": [
        "***\n",
        "# Dictionaries"
      ]
    },
    {
      "cell_type": "code",
      "execution_count": null,
      "metadata": {
        "id": "apMjaCbXLgmG"
      },
      "outputs": [],
      "source": [
        "a={}\n",
        "print(type(a))"
      ]
    },
    {
      "cell_type": "code",
      "execution_count": null,
      "metadata": {
        "id": "SWfEp-YsOMgo"
      },
      "outputs": [],
      "source": [
        "dict1={\"A\":1,\"B\":2}\n",
        "print(dict1)"
      ]
    },
    {
      "cell_type": "code",
      "execution_count": null,
      "metadata": {
        "id": "G5eiHyP0Oa7P"
      },
      "outputs": [],
      "source": [
        "dict2={\"A\":1,\"B\":2,\"A\":10}    # will take the last value, if you have duplcate keys\n",
        "print(dict2)"
      ]
    },
    {
      "cell_type": "code",
      "execution_count": null,
      "metadata": {
        "id": "Y9z-kAqVOv2s"
      },
      "outputs": [],
      "source": [
        "dict2={\"A\":1,\"B\":2,\"a\":10}     #keys are case sensitive, A and a are considered as different keys\n",
        "print(dict2)"
      ]
    },
    {
      "cell_type": "code",
      "execution_count": null,
      "metadata": {
        "id": "cqPDUCi5PIC9"
      },
      "outputs": [],
      "source": [
        "dict3 ={(1,2):1,\"abc\":20, 12.6:\"A\"}\n",
        "print(dict3)"
      ]
    },
    {
      "cell_type": "code",
      "execution_count": null,
      "metadata": {
        "id": "3DqVhKo5PYlZ"
      },
      "outputs": [],
      "source": [
        "dict3[12.6]"
      ]
    },
    {
      "cell_type": "code",
      "execution_count": null,
      "metadata": {
        "id": "4Hv4s_HNPjnJ"
      },
      "outputs": [],
      "source": [
        "dict4 = { \"A\":1,\n",
        "         \"B\":2,\n",
        "         \"C\":{\"A\":10,\"B\":20}\n",
        "    }"
      ]
    },
    {
      "cell_type": "code",
      "execution_count": null,
      "metadata": {
        "id": "knAMkvPGP3up"
      },
      "outputs": [],
      "source": [
        "dict4[\"C\"][\"B\"]"
      ]
    },
    {
      "cell_type": "code",
      "execution_count": null,
      "metadata": {
        "id": "kT_Rl_A0Qntz"
      },
      "outputs": [],
      "source": [
        "dict4.keys()"
      ]
    },
    {
      "cell_type": "code",
      "execution_count": null,
      "metadata": {
        "id": "mJKQhcBkQxGw"
      },
      "outputs": [],
      "source": [
        "dict4.values()"
      ]
    },
    {
      "cell_type": "code",
      "execution_count": null,
      "metadata": {
        "id": "RctSm-4FRmEr"
      },
      "outputs": [],
      "source": [
        "dict5={\"A\":1, \"B\":2, \"C\":3, \"D\":4, \"E\":5}"
      ]
    },
    {
      "cell_type": "code",
      "execution_count": null,
      "metadata": {
        "id": "VeHJU5hBR2od"
      },
      "outputs": [],
      "source": [
        "print(dir(dict5))"
      ]
    },
    {
      "cell_type": "code",
      "execution_count": null,
      "metadata": {
        "id": "zLcmGF0qR7kr"
      },
      "outputs": [],
      "source": [
        "dict5.pop(\"C\")"
      ]
    },
    {
      "cell_type": "code",
      "execution_count": null,
      "metadata": {
        "id": "tkKBsKBOSRVk"
      },
      "outputs": [],
      "source": [
        "dict5"
      ]
    },
    {
      "cell_type": "code",
      "execution_count": null,
      "metadata": {
        "id": "s_sx2_GWSWzt"
      },
      "outputs": [],
      "source": [
        "dict5.pop(\"Z\",\"Key is not present\")"
      ]
    },
    {
      "cell_type": "code",
      "execution_count": null,
      "metadata": {
        "id": "P3lZu-SPSjr6"
      },
      "outputs": [],
      "source": [
        "dict5.pop(\"A\",\"Key is not present\")"
      ]
    },
    {
      "cell_type": "code",
      "execution_count": null,
      "metadata": {
        "id": "RCWs8KlRSmGI"
      },
      "outputs": [],
      "source": [
        "dict5"
      ]
    },
    {
      "cell_type": "code",
      "execution_count": null,
      "metadata": {
        "id": "B99oWCDFS8J_"
      },
      "outputs": [],
      "source": [
        "print(dict5.popitem())\n",
        "print(dict5)"
      ]
    },
    {
      "cell_type": "code",
      "execution_count": null,
      "metadata": {
        "id": "uaUpgDdjTVKS"
      },
      "outputs": [],
      "source": [
        "dict5={\"A\":1, \"B\":2, \"C\":3, \"D\":4, \"E\":5}"
      ]
    },
    {
      "cell_type": "code",
      "execution_count": null,
      "metadata": {
        "id": "B62Oxm1YTdDy"
      },
      "outputs": [],
      "source": [
        "del dict5[\"D\"]\n",
        "dict5"
      ]
    },
    {
      "cell_type": "code",
      "execution_count": null,
      "metadata": {
        "id": "fwxgZvvKTqgG"
      },
      "outputs": [],
      "source": [
        "del dict5[\"D\"]"
      ]
    },
    {
      "cell_type": "code",
      "execution_count": null,
      "metadata": {
        "id": "MOhcN-BITzE7"
      },
      "outputs": [],
      "source": [
        "dict6 ={\"Name\": \"Ram\" ,\"Age\":7 , \"Class\" : \"First\" }\n",
        "student_dict = {}\n",
        "student_dict[1] = dict6\n",
        "student_dict\n"
      ]
    },
    {
      "cell_type": "code",
      "execution_count": null,
      "metadata": {},
      "outputs": [],
      "source": [
        "dict6 ={\"Name\": \"Amit\" ,\"Age\":8 , \"Class\" : \"First\" }\n",
        "student_dict[2] = dict6\n",
        "student_dict"
      ]
    },
    {
      "cell_type": "code",
      "execution_count": null,
      "metadata": {},
      "outputs": [],
      "source": [
        "student_dict[2]['Name']"
      ]
    },
    {
      "cell_type": "code",
      "execution_count": null,
      "metadata": {
        "id": "tOOI6b_LUIdy"
      },
      "outputs": [],
      "source": [
        "dict6[\"Age\"] =18\n",
        "dict6[\"school1\"] = \"Baldwins school\""
      ]
    },
    {
      "cell_type": "code",
      "execution_count": null,
      "metadata": {
        "id": "AuX4osvnUTxD"
      },
      "outputs": [],
      "source": [
        "dict6"
      ]
    },
    {
      "cell_type": "code",
      "execution_count": null,
      "metadata": {
        "id": "7KHw7B30Ubkf"
      },
      "outputs": [],
      "source": [
        "del dict6[\"Age\"]"
      ]
    },
    {
      "cell_type": "code",
      "execution_count": null,
      "metadata": {
        "id": "TZsM5j74Ty6O"
      },
      "outputs": [],
      "source": [
        "dict6"
      ]
    },
    {
      "cell_type": "code",
      "execution_count": null,
      "metadata": {
        "id": "a8oS704iUiiw"
      },
      "outputs": [],
      "source": [
        "print(dict6[\"Age\"])"
      ]
    },
    {
      "cell_type": "code",
      "execution_count": null,
      "metadata": {
        "id": "11O5b7QIUoAu"
      },
      "outputs": [],
      "source": [
        "dict6"
      ]
    },
    {
      "cell_type": "code",
      "execution_count": null,
      "metadata": {
        "id": "Ajy94SGOUqRd"
      },
      "outputs": [],
      "source": [
        "dict6.clear()"
      ]
    },
    {
      "cell_type": "code",
      "execution_count": null,
      "metadata": {
        "id": "OjSWMdqdUteq"
      },
      "outputs": [],
      "source": [
        "dict6"
      ]
    },
    {
      "cell_type": "code",
      "execution_count": null,
      "metadata": {
        "id": "buzZtIWtUwVN"
      },
      "outputs": [],
      "source": [
        "del dict6"
      ]
    },
    {
      "cell_type": "code",
      "execution_count": null,
      "metadata": {
        "id": "I4wCo_TbUy-s"
      },
      "outputs": [],
      "source": [
        "dict6"
      ]
    },
    {
      "cell_type": "code",
      "execution_count": null,
      "metadata": {
        "colab": {
          "base_uri": "https://localhost:8080/"
        },
        "id": "cLrr1xUYk8Tz",
        "outputId": "b2e17945-410a-4579-de91-b0abdcf41061"
      },
      "outputs": [],
      "source": [
        "mydict = {\n",
        "    \"brand\":\"Ford\",\n",
        "    \"model\": \"mustang\",\n",
        "    \"year\":\"1964\"\n",
        "}\n",
        "print(mydict)"
      ]
    },
    {
      "cell_type": "code",
      "execution_count": null,
      "metadata": {
        "colab": {
          "base_uri": "https://localhost:8080/"
        },
        "id": "nh43JX0albyx",
        "outputId": "71f12fef-c175-46cb-a5c4-e9e86ed618e0"
      },
      "outputs": [],
      "source": [
        "for x in mydict:\n",
        "  print(x,'=>',mydict[x])"
      ]
    },
    {
      "cell_type": "code",
      "execution_count": null,
      "metadata": {
        "colab": {
          "base_uri": "https://localhost:8080/"
        },
        "id": "OughFkTQl7Xv",
        "outputId": "672f4550-475a-408f-fc95-f42c04ee8bc3"
      },
      "outputs": [],
      "source": [
        "dict1=mydict.copy()\n",
        "dict1"
      ]
    },
    {
      "cell_type": "code",
      "execution_count": null,
      "metadata": {
        "colab": {
          "base_uri": "https://localhost:8080/"
        },
        "id": "tAduuZAOmEeN",
        "outputId": "d9939bca-6f61-4fe5-b965-f05d5eeb357d"
      },
      "outputs": [],
      "source": [
        "child1 = {\n",
        "    \"Name\":\"Puspendra\",\n",
        "    \"doy\" :2000\n",
        "    }\n",
        "child2 = {\n",
        "    \"Name\":\"Karthik\",\n",
        "    \"doy\" :1990\n",
        "}\n",
        "child3 = {\n",
        "    \"Name\":\"Sonal\",\n",
        "    \"doy\" :2001\n",
        "}\n",
        "cousins={\n",
        "    \"child1_K\":child1,\n",
        "    \"child2_K\":child2,\n",
        "    \"child3_K\":child3\n",
        "\n",
        "}\n",
        "\n",
        "print(cousins)"
      ]
    },
    {
      "attachments": {},
      "cell_type": "markdown",
      "metadata": {
        "id": "NYfk-T0_nMwx"
      },
      "source": [
        "***\n",
        "# Sets"
      ]
    },
    {
      "cell_type": "code",
      "execution_count": null,
      "metadata": {
        "colab": {
          "base_uri": "https://localhost:8080/"
        },
        "id": "dypee10knVwl",
        "outputId": "36240689-082d-4ddb-bd8b-e1ec331fc30d"
      },
      "outputs": [],
      "source": [
        "fruits1={\"Orange\",\"mango\",\"grapes\",\"mango\"}\n",
        "fruits2 = set((\"apple\",\"banana\",\"Cherry\",\"apple\"))\n",
        "print(fruits2)\n",
        "print(fruits1)"
      ]
    },
    {
      "cell_type": "code",
      "execution_count": null,
      "metadata": {
        "colab": {
          "base_uri": "https://localhost:8080/"
        },
        "id": "nkgRlO1On5Lp",
        "outputId": "69a54ef9-a81c-4432-8b2c-b5d9ddfde18e"
      },
      "outputs": [],
      "source": [
        "a={\"apple\",\"banana\",\"Cherry\",\"apple\"}\n",
        "type(a)"
      ]
    },
    {
      "cell_type": "code",
      "execution_count": null,
      "metadata": {
        "colab": {
          "base_uri": "https://localhost:8080/"
        },
        "id": "Idy8Ch-2oIBR",
        "outputId": "5c6925a5-3d0f-4ce5-9e3f-870eaf21edf9"
      },
      "outputs": [],
      "source": [
        "for x in fruits2:\n",
        "  print(x)"
      ]
    },
    {
      "cell_type": "code",
      "execution_count": null,
      "metadata": {
        "colab": {
          "base_uri": "https://localhost:8080/"
        },
        "id": "72ST8SeroZSR",
        "outputId": "a2db46c9-11fc-4751-d6ab-3e4f33e3bbb1"
      },
      "outputs": [],
      "source": [
        "print(\"banana\" in fruits2)"
      ]
    },
    {
      "cell_type": "code",
      "execution_count": null,
      "metadata": {
        "colab": {
          "base_uri": "https://localhost:8080/"
        },
        "id": "WJ7W1Z7QohyX",
        "outputId": "f36709f0-18da-4f9b-fc4f-1d77b55a2d0d"
      },
      "outputs": [],
      "source": [
        "print(\"Orange\" not in fruits2)"
      ]
    },
    {
      "cell_type": "code",
      "execution_count": null,
      "metadata": {},
      "outputs": [],
      "source": [
        "fruits1"
      ]
    },
    {
      "cell_type": "code",
      "execution_count": null,
      "metadata": {
        "id": "UYgH8ou1o8aT"
      },
      "outputs": [],
      "source": [
        "fruits2 = {'Cherry', 'apple', 'banana',\"grapes\"}\n",
        "fruits2"
      ]
    },
    {
      "cell_type": "code",
      "execution_count": null,
      "metadata": {
        "colab": {
          "base_uri": "https://localhost:8080/"
        },
        "id": "JaBg_YUfopoG",
        "outputId": "e7d5afb6-ad8d-402f-b311-8ff1abe061ec"
      },
      "outputs": [],
      "source": [
        "print(fruits1)\n",
        "print(fruits2)\n",
        "union_set = fruits1.union(fruits2)\n",
        "union_set"
      ]
    },
    {
      "cell_type": "code",
      "execution_count": null,
      "metadata": {
        "colab": {
          "base_uri": "https://localhost:8080/"
        },
        "id": "NeOegZMIpaxD",
        "outputId": "289e81bb-534b-410c-bc5d-9557ecede218"
      },
      "outputs": [],
      "source": [
        "intersection_set = fruits1.intersection(fruits2)\n",
        "intersection_set"
      ]
    },
    {
      "cell_type": "code",
      "execution_count": null,
      "metadata": {
        "colab": {
          "base_uri": "https://localhost:8080/"
        },
        "id": "hREjbOmzpzDj",
        "outputId": "5b8dde5f-832d-4eef-948a-088b4126bebb"
      },
      "outputs": [],
      "source": [
        "fruits2"
      ]
    },
    {
      "cell_type": "code",
      "execution_count": null,
      "metadata": {
        "colab": {
          "base_uri": "https://localhost:8080/",
          "height": 165
        },
        "id": "1a5RnVqap3js",
        "outputId": "4c096f38-20ea-41cc-c33f-6e397e98153e"
      },
      "outputs": [],
      "source": [
        "fruits2[1]=\"oranges\""
      ]
    },
    {
      "cell_type": "code",
      "execution_count": null,
      "metadata": {
        "colab": {
          "base_uri": "https://localhost:8080/"
        },
        "id": "Ad6U4LvjqD7k",
        "outputId": "eda9d3fd-82ea-4052-f176-0d22304028f3"
      },
      "outputs": [],
      "source": [
        "type(fruits2)"
      ]
    },
    {
      "attachments": {},
      "cell_type": "markdown",
      "metadata": {
        "id": "Q-RrK4-WvPjp"
      },
      "source": [
        "# Date & Time"
      ]
    },
    {
      "cell_type": "code",
      "execution_count": null,
      "metadata": {
        "colab": {
          "base_uri": "https://localhost:8080/"
        },
        "id": "kykT8xHevO6D",
        "outputId": "1fe05aea-e793-452c-a2cd-8d0bd9e88504"
      },
      "outputs": [],
      "source": [
        "import time\n",
        "ticks = time.time()\n",
        "print(\"Number of ticks since Jan 1 1970, 12AM\", ticks)"
      ]
    },
    {
      "cell_type": "code",
      "execution_count": null,
      "metadata": {
        "colab": {
          "base_uri": "https://localhost:8080/"
        },
        "id": "CM7pKnLov1Ta",
        "outputId": "f9b972e6-d5ad-460b-e8a8-813466440fcd"
      },
      "outputs": [],
      "source": [
        "import time\n",
        "ticks = time.time()\n",
        "print(\"Number of ticks since Jan 1 1970, 12AM\", ticks)"
      ]
    },
    {
      "cell_type": "code",
      "execution_count": null,
      "metadata": {
        "colab": {
          "base_uri": "https://localhost:8080/"
        },
        "id": "sB7Yua4OwABs",
        "outputId": "983d360b-882e-47e5-aa58-6b98e286366f"
      },
      "outputs": [],
      "source": [
        "localtime = time.localtime(time.time())\n",
        "print(\"Local Current time\",localtime)"
      ]
    },
    {
      "cell_type": "code",
      "execution_count": null,
      "metadata": {
        "colab": {
          "base_uri": "https://localhost:8080/"
        },
        "id": "KTnDJa8twfAw",
        "outputId": "a1ae3e24-7550-4c1b-9401-e088b2174a5f"
      },
      "outputs": [],
      "source": [
        "localtime = time.asctime(time.localtime(time.time()))\n",
        "print(\"Local Current time\",localtime)"
      ]
    },
    {
      "cell_type": "code",
      "execution_count": null,
      "metadata": {
        "colab": {
          "base_uri": "https://localhost:8080/"
        },
        "id": "0Xvn6agpw24z",
        "outputId": "75eb4143-0be8-4612-9d4c-d62988c88790"
      },
      "outputs": [],
      "source": [
        "t=(2022,2,8,15,27,22,4,39,1)\n",
        "secs=time.mktime(t)\n",
        "print(\"Seconds\",secs)\n",
        "print(\"Formatted time\",time.asctime(time.localtime(secs)))"
      ]
    },
    {
      "cell_type": "code",
      "execution_count": null,
      "metadata": {
        "colab": {
          "base_uri": "https://localhost:8080/"
        },
        "id": "40SjbYsD1u-s",
        "outputId": "492d0fa3-8e97-4287-b521-0b02dca972b2"
      },
      "outputs": [],
      "source": [
        "import calendar\n",
        "cal = calendar.month(2022,2)\n",
        "print(cal)"
      ]
    },
    {
      "cell_type": "code",
      "execution_count": null,
      "metadata": {
        "colab": {
          "base_uri": "https://localhost:8080/"
        },
        "id": "9Ishj4NJ3Rhj",
        "outputId": "a8f1c6f4-57a8-4fa4-cae1-41128f199dda"
      },
      "outputs": [],
      "source": [
        "print(calendar.calendar(2022))"
      ]
    },
    {
      "cell_type": "code",
      "execution_count": null,
      "metadata": {
        "colab": {
          "base_uri": "https://localhost:8080/"
        },
        "id": "1DbZCtU43cxX",
        "outputId": "7d11631d-9496-49af-9937-61ee49c5b00e"
      },
      "outputs": [],
      "source": [
        "calendar.firstweekday()"
      ]
    },
    {
      "cell_type": "code",
      "execution_count": null,
      "metadata": {
        "id": "OxgkQLCE38qT"
      },
      "outputs": [],
      "source": [
        "calendar.setfirstweekday(0)"
      ]
    },
    {
      "cell_type": "code",
      "execution_count": null,
      "metadata": {
        "colab": {
          "base_uri": "https://localhost:8080/"
        },
        "id": "rZBEZoUj4els",
        "outputId": "f1367423-e647-4253-b88d-1309095c035a"
      },
      "outputs": [],
      "source": [
        "calendar.isleap(2024)"
      ]
    },
    {
      "cell_type": "code",
      "execution_count": null,
      "metadata": {},
      "outputs": [],
      "source": [
        "import datetime\n",
        "\n",
        "# get the current date and time\n",
        "now = datetime.datetime.now()\n",
        "\n",
        "print(now)"
      ]
    },
    {
      "cell_type": "code",
      "execution_count": null,
      "metadata": {},
      "outputs": [],
      "source": [
        "import datetime\n",
        "\n",
        "# get current date\n",
        "current_date = datetime.date.today()\n",
        "\n",
        "print(current_date)"
      ]
    },
    {
      "cell_type": "code",
      "execution_count": null,
      "metadata": {},
      "outputs": [],
      "source": [
        "print(dir(datetime))"
      ]
    },
    {
      "cell_type": "code",
      "execution_count": null,
      "metadata": {},
      "outputs": [],
      "source": [
        "import datetime\n",
        "\n",
        "d = datetime.date(2022, 12, 25)\n",
        "print(d)"
      ]
    },
    {
      "cell_type": "code",
      "execution_count": null,
      "metadata": {},
      "outputs": [],
      "source": [
        "# today() to get current date\n",
        "todays_date = datetime.date.today()\n",
        "\n",
        "print(\"Today's date =\", todays_date)"
      ]
    },
    {
      "attachments": {},
      "cell_type": "markdown",
      "metadata": {},
      "source": [
        "A Unix timestamp is the number of seconds between a particular date and January 1, 1970 at UTC. You can convert a timestamp to date using the fromtimestamp() method."
      ]
    },
    {
      "cell_type": "code",
      "execution_count": null,
      "metadata": {},
      "outputs": [],
      "source": [
        "timestamp = datetime.date.fromtimestamp(1326244364)\n",
        "print(\"Date =\", timestamp)"
      ]
    },
    {
      "cell_type": "code",
      "execution_count": null,
      "metadata": {},
      "outputs": [],
      "source": [
        "from datetime import datetime\n",
        "\n",
        "# current date and time\n",
        "now = datetime.now()\n",
        "\n",
        "# convert from datetime to timestamp\n",
        "ts = datetime.timestamp(now)\n",
        "\n",
        "print(\"Timestamp =\", ts)"
      ]
    },
    {
      "cell_type": "code",
      "execution_count": null,
      "metadata": {},
      "outputs": [],
      "source": [
        "# date object of today's date\n",
        "today = datetime.date.today() \n",
        "\n",
        "print(\"Current year:\", today.year)\n",
        "print(\"Current month:\", today.month)\n",
        "print(\"Current day:\", today.day)"
      ]
    },
    {
      "cell_type": "code",
      "execution_count": null,
      "metadata": {},
      "outputs": [],
      "source": [
        "from datetime import time\n",
        "\n",
        "# time(hour = 0, minute = 0, second = 0)\n",
        "a = time()\n",
        "print(a)\n",
        "\n",
        "# time(hour, minute and second)\n",
        "b = time(11, 34, 56)\n",
        "print(b)\n",
        "\n",
        "# time(hour, minute and second)\n",
        "c = time(hour = 11, minute = 34, second = 56)\n",
        "print(c)\n",
        "\n",
        "# time(hour, minute, second, microsecond)\n",
        "d = time(11, 34, 56, 234566)\n",
        "print(d)"
      ]
    },
    {
      "cell_type": "code",
      "execution_count": null,
      "metadata": {},
      "outputs": [],
      "source": [
        "a = time(11, 34, 56)\n",
        "\n",
        "print(\"Hour =\", a.hour)\n",
        "print(\"Minute =\", a.minute)\n",
        "print(\"Second =\", a.second)\n",
        "print(\"Microsecond =\", a.microsecond)"
      ]
    },
    {
      "cell_type": "code",
      "execution_count": null,
      "metadata": {},
      "outputs": [],
      "source": [
        "from datetime import datetime\n",
        "\n",
        "# datetime(year, month, day)\n",
        "a = datetime(2022, 12, 28)\n",
        "print(a)\n",
        "\n",
        "# datetime(year, month, day, hour, minute, second, microsecond)\n",
        "b = datetime(2022, 12, 28, 23, 55, 59, 342380)\n",
        "print(b)"
      ]
    },
    {
      "cell_type": "code",
      "execution_count": null,
      "metadata": {},
      "outputs": [],
      "source": [
        "print(\"Year =\", a.year)\n",
        "print(\"Month =\", a.month)\n",
        "print(\"Hour =\", a.hour)\n",
        "print(\"Minute =\", a.minute)\n",
        "print(\"Timestamp =\", a.timestamp())"
      ]
    },
    {
      "cell_type": "code",
      "execution_count": null,
      "metadata": {},
      "outputs": [],
      "source": [
        "from datetime import datetime, date\n",
        "\n",
        "# using date()\n",
        "t1 = date(year = 2018, month = 7, day = 12)\n",
        "t2 = date(year = 2017, month = 12, day = 23)\n",
        "\n",
        "t3 = t1 - t2\n",
        "\n",
        "print(\"t3 =\", t3)\n",
        "\n",
        "# using datetime()\n",
        "t4 = datetime(year = 2018, month = 7, day = 12, hour = 7, minute = 9, second = 33)\n",
        "t5 = datetime(year = 2019, month = 6, day = 10, hour = 5, minute = 55, second = 13)\n",
        "t6 = t4 - t5\n",
        "print(\"t6 =\", t6)\n",
        "\n",
        "print(\"Type of t3 =\", type(t3)) \n",
        "print(\"Type of t6 =\", type(t6))  "
      ]
    },
    {
      "cell_type": "code",
      "execution_count": null,
      "metadata": {},
      "outputs": [],
      "source": [
        "from datetime import datetime\n",
        "\n",
        "# current date and time\n",
        "now = datetime.now()\n",
        "\n",
        "t = now.strftime(\"%H:%M:%S\")\n",
        "print(\"Time:\", t)\n",
        "\n",
        "s1 = now.strftime(\"%m/%d/%Y, %H:%M:%S\")\n",
        "# mm/dd/YY H:M:S format\n",
        "print(\"s1:\", s1)\n",
        "\n",
        "s2 = now.strftime(\"%d/%m/%Y, %H:%M:%S\")\n",
        "# dd/mm/YY H:M:S format\n",
        "print(\"s2:\", s2)"
      ]
    },
    {
      "attachments": {},
      "cell_type": "markdown",
      "metadata": {},
      "source": [
        "https://www.programiz.com/python-programming/datetime/strftime"
      ]
    },
    {
      "cell_type": "code",
      "execution_count": null,
      "metadata": {},
      "outputs": [],
      "source": [
        "from datetime import datetime\n",
        "\n",
        "date_string = \"25 December, 2022\"\n",
        "print(\"date_string =\", date_string)\n",
        "\n",
        "# use strptime() to create date object\n",
        "date_object = datetime.strptime(date_string, \"%d %B, %Y\")\n",
        "\n",
        "print(\"date_object =\", date_object)"
      ]
    },
    {
      "cell_type": "code",
      "execution_count": null,
      "metadata": {},
      "outputs": [],
      "source": [
        "from datetime import datetime\n",
        "import pytz\n",
        "\n",
        "local = datetime.now()\n",
        "print(\"Local:\", local.strftime(\"%m/%d/%Y, %H:%M:%S\"))\n",
        "\n",
        "\n",
        "tz_NY = pytz.timezone('America/New_York') \n",
        "datetime_NY = datetime.now(tz_NY)\n",
        "print(\"NY:\", datetime_NY.strftime(\"%m/%d/%Y, %H:%M:%S\"))\n",
        "\n",
        "tz_London = pytz.timezone('Europe/London')\n",
        "datetime_London = datetime.now(tz_London)\n",
        "print(\"London:\", datetime_London.strftime(\"%m/%d/%Y, %H:%M:%S\"))"
      ]
    },
    {
      "attachments": {},
      "cell_type": "markdown",
      "metadata": {
        "id": "2CO4N7I19LX5"
      },
      "source": [
        "# Functions"
      ]
    },
    {
      "cell_type": "code",
      "execution_count": null,
      "metadata": {
        "id": "ipM3pgfL9OkR"
      },
      "outputs": [],
      "source": [
        "#Function Defnition\n",
        "\n",
        "def printstr(str):\n",
        "  \"This function prints the string the passed into the function\"\n",
        "  print(str)\n",
        "\n",
        "  return\n"
      ]
    },
    {
      "cell_type": "code",
      "execution_count": null,
      "metadata": {
        "colab": {
          "base_uri": "https://localhost:8080/"
        },
        "id": "ShWet4qO9oSR",
        "outputId": "59740851-1ae9-4f06-8556-80948e1355dd"
      },
      "outputs": [],
      "source": [
        "#Function call\n",
        "printstr(\"Welcome to the Concept of Functions\")"
      ]
    },
    {
      "cell_type": "code",
      "execution_count": null,
      "metadata": {
        "colab": {
          "base_uri": "https://localhost:8080/"
        },
        "id": "itNpSDle-AaU",
        "outputId": "7691fc92-365c-4f6f-843d-dda23c1c0810"
      },
      "outputs": [],
      "source": [
        "print(printstr.__doc__)"
      ]
    },
    {
      "cell_type": "code",
      "execution_count": null,
      "metadata": {
        "colab": {
          "base_uri": "https://localhost:8080/"
        },
        "id": "xLh0xX_P-Zo-",
        "outputId": "8568c62c-acd7-424d-f03c-e6316a9f5696"
      },
      "outputs": [],
      "source": [
        "import math\n",
        "print(math.__doc__)\n",
        "print(math.sqrt.__doc__)"
      ]
    },
    {
      "cell_type": "code",
      "execution_count": null,
      "metadata": {},
      "outputs": [],
      "source": [
        "x = 6\n",
        "print(x)\n",
        "\n",
        "def fun(x):\n",
        "    x = 10\n",
        "    print(x)\n",
        "    return x\n",
        "\n",
        "x = fun(x)\n",
        "\n",
        "print(x)"
      ]
    },
    {
      "cell_type": "code",
      "execution_count": null,
      "metadata": {
        "colab": {
          "base_uri": "https://localhost:8080/"
        },
        "id": "1wRBQHN9_2OC",
        "outputId": "10b7a291-bea8-490e-e753-2c31b5a011e5"
      },
      "outputs": [],
      "source": [
        "number1 =15\n",
        "number2 =25\n",
        "\n",
        "def multiply_and_add():\n",
        "  global number1,number2\n",
        "  number1 = number1*10\n",
        "  number2 = number2*10\n",
        "  print(f\"Numbers inside the fun {number1} and {number2}\")\n",
        "  return number1+number2\n",
        "\n",
        "sum=multiply_and_add()\n",
        "print(sum)\n",
        "print(number1)\n",
        "print(number2)  "
      ]
    },
    {
      "cell_type": "code",
      "execution_count": null,
      "metadata": {
        "colab": {
          "base_uri": "https://localhost:8080/"
        },
        "id": "Ongxz1eaA4ht",
        "outputId": "9316188f-efb0-43b5-a618-06c1242ba4eb"
      },
      "outputs": [],
      "source": [
        "def changelist(mylist):\n",
        "  \n",
        "  mylist[0]=100\n",
        "  #mylist.append([40,50])\n",
        "  print(\"values inside the function\",mylist)\n",
        "  return\n",
        "\n",
        "\n",
        "mylist=[10,20,30]\n",
        "print(\"values Before passing to  the function\",mylist)\n",
        "changelist(mylist)\n",
        "print(\"values After passing to  the function\",mylist)\n"
      ]
    },
    {
      "attachments": {},
      "cell_type": "markdown",
      "metadata": {
        "id": "b7AMDxYxD4i_"
      },
      "source": [
        "Arguments\n",
        "\n",
        "\n",
        "*   Required Argument\n",
        "*   List item\n",
        "\n"
      ]
    },
    {
      "cell_type": "code",
      "execution_count": null,
      "metadata": {
        "colab": {
          "base_uri": "https://localhost:8080/"
        },
        "id": "NdwYVIgeD-C0",
        "outputId": "a1bbcc20-9494-4d0d-fd95-fce5e28ff2ac"
      },
      "outputs": [],
      "source": [
        "#Required Argument\n",
        "def printstr(str):\n",
        "  print(str)\n",
        "  return\n",
        "\n",
        "printstr(str=\"Hello\")"
      ]
    },
    {
      "cell_type": "code",
      "execution_count": null,
      "metadata": {
        "colab": {
          "base_uri": "https://localhost:8080/",
          "height": 200
        },
        "id": "ULgVsBejEcB1",
        "outputId": "1a5dcb19-0f66-4cd6-c7a5-26eef737dc68"
      },
      "outputs": [],
      "source": [
        "def info(name,age):\n",
        "  print(\"Name\",name)\n",
        "  print(\"age\",age)\n",
        "  return\n",
        "\n",
        "info(\"Raju\", \"Yadav\")\n"
      ]
    },
    {
      "cell_type": "code",
      "execution_count": null,
      "metadata": {
        "colab": {
          "base_uri": "https://localhost:8080/"
        },
        "id": "iwBHgTqvE7R2",
        "outputId": "75e32202-56a6-40be-c0f5-82ef63063ccc"
      },
      "outputs": [],
      "source": [
        "info(35,\"raju\")"
      ]
    },
    {
      "attachments": {},
      "cell_type": "markdown",
      "metadata": {
        "id": "mZ8SDOyQFNxF"
      },
      "source": [
        "Default Argument"
      ]
    },
    {
      "cell_type": "code",
      "execution_count": null,
      "metadata": {
        "colab": {
          "base_uri": "https://localhost:8080/"
        },
        "id": "S6qIN4adFQcN",
        "outputId": "8036fffe-44f3-42d7-a7d7-419f8381c825"
      },
      "outputs": [],
      "source": [
        "def info1(name,age=35):\n",
        "  print(\"Name\",name)\n",
        "  print(\"Age\",age)\n",
        "  return\n",
        "\n",
        "info1(name=\"Kumar\",age=25)"
      ]
    },
    {
      "cell_type": "code",
      "execution_count": null,
      "metadata": {
        "colab": {
          "base_uri": "https://localhost:8080/"
        },
        "id": "GLJJS-FfFlCM",
        "outputId": "ed194f3f-6d4e-40b3-d7f3-84c89c1bb075"
      },
      "outputs": [],
      "source": [
        "info1(name=\"Kruthi\")"
      ]
    },
    {
      "cell_type": "code",
      "execution_count": null,
      "metadata": {},
      "outputs": [],
      "source": [
        "print(1,2,3)"
      ]
    },
    {
      "attachments": {},
      "cell_type": "markdown",
      "metadata": {
        "id": "2vlXapWqF8HZ"
      },
      "source": [
        "Variable length Argument"
      ]
    },
    {
      "cell_type": "code",
      "execution_count": null,
      "metadata": {
        "colab": {
          "base_uri": "https://localhost:8080/"
        },
        "id": "mLbP71B3F_G3",
        "outputId": "ef485855-882b-4c93-a997-88c6c3a41d9c"
      },
      "outputs": [],
      "source": [
        "def mysum(*args):\n",
        "  result=0\n",
        "  for x in args:\n",
        "    result += x\n",
        "  return result\n",
        "\n",
        "\n",
        "print(mysum(1,2))\n",
        "print(mysum(1,2,4,5))"
      ]
    },
    {
      "cell_type": "code",
      "execution_count": null,
      "metadata": {},
      "outputs": [],
      "source": [
        "def total(a=5, *numbers, **phonebook):\n",
        "    print('a', a)\n",
        "\n",
        "    #iterate through all the items in tuple\n",
        "    for single_item in numbers:\n",
        "        print('single_item', single_item)\n",
        "\n",
        "    #iterate through all the items in dictionary    \n",
        "    for first_part, second_part in phonebook.items():\n",
        "        print(first_part,second_part)\n",
        "\n",
        "total(10,1,2,3,Jack=1123,John=2231,Inge=1560)"
      ]
    },
    {
      "cell_type": "code",
      "execution_count": null,
      "metadata": {
        "colab": {
          "base_uri": "https://localhost:8080/"
        },
        "id": "xKY1iEHuHiio",
        "outputId": "f4e463eb-82e8-4929-fcf2-182ea1124072"
      },
      "outputs": [],
      "source": [
        "def cube(y):\n",
        "  return y*y*y\n",
        "\n",
        "lambda_cube = lambda y: y*y*y\n",
        "\n",
        "print(cube(5))\n",
        "print(lambda_cube(5))"
      ]
    },
    {
      "attachments": {},
      "cell_type": "markdown",
      "metadata": {},
      "source": [
        "Retrun Statement"
      ]
    },
    {
      "cell_type": "code",
      "execution_count": null,
      "metadata": {},
      "outputs": [],
      "source": [
        "def maximum(x, y):\n",
        "    if x > y:\n",
        "        return x\n",
        "    elif x == y:\n",
        "        return 'The numbers are equal'\n",
        "    else:\n",
        "        return y\n",
        "\n",
        "print(maximum(2, 1))"
      ]
    },
    {
      "attachments": {},
      "cell_type": "markdown",
      "metadata": {
        "id": "m6NhlJ7ttmax"
      },
      "source": [
        "# Input Output"
      ]
    },
    {
      "cell_type": "code",
      "execution_count": null,
      "metadata": {
        "colab": {
          "base_uri": "https://localhost:8080/"
        },
        "id": "heaNNz5-tpSv",
        "outputId": "0edc1a82-5ff3-445b-e7da-909b28c000d4"
      },
      "outputs": [],
      "source": [
        "str=input(\"enter your Name: \")"
      ]
    },
    {
      "cell_type": "code",
      "execution_count": null,
      "metadata": {
        "colab": {
          "base_uri": "https://localhost:8080/",
          "height": 35
        },
        "id": "FpM9rhott0sd",
        "outputId": "d693776c-cf42-4012-c6b3-2672617beacf"
      },
      "outputs": [],
      "source": [
        "str"
      ]
    },
    {
      "cell_type": "code",
      "execution_count": null,
      "metadata": {},
      "outputs": [],
      "source": [
        "n1 = int(input(\"enter your number 1: \"))\n",
        "n2 = int(input(\"enter your number 2: \"))\n",
        "print(n1+n2)"
      ]
    },
    {
      "cell_type": "code",
      "execution_count": null,
      "metadata": {
        "colab": {
          "base_uri": "https://localhost:8080/"
        },
        "id": "O4k38om9t493",
        "outputId": "235373d0-288d-443b-9f51-0eab81b8ddb3"
      },
      "outputs": [],
      "source": [
        "x,y=input(\"Enter the num of boys and girls in the class\").split()\n",
        "print(\"Number of boys\",x)\n",
        "print(\"Number of girls\",y)\n",
        "type(x)\n",
        "type(y)"
      ]
    },
    {
      "cell_type": "code",
      "execution_count": null,
      "metadata": {
        "colab": {
          "base_uri": "https://localhost:8080/"
        },
        "id": "XhejdpQiuVeH",
        "outputId": "b483ecde-6539-4549-df80-956712304a58"
      },
      "outputs": [],
      "source": [
        "X_int=int(x)\n",
        "marks = 1000\n",
        "avg = marks/X_int\n",
        "avg\n"
      ]
    },
    {
      "cell_type": "code",
      "execution_count": null,
      "metadata": {
        "colab": {
          "base_uri": "https://localhost:8080/",
          "height": 35
        },
        "id": "_K-3AZ_-uxDG",
        "outputId": "80420cd9-0894-43bc-e6a5-50775a41313d"
      },
      "outputs": [],
      "source": [
        "x"
      ]
    },
    {
      "cell_type": "code",
      "execution_count": null,
      "metadata": {
        "colab": {
          "base_uri": "https://localhost:8080/"
        },
        "id": "kPoWeBGKvp26",
        "outputId": "6a28e0e8-41fb-423a-d5d0-dece4f0f5e6d"
      },
      "outputs": [],
      "source": [
        "a=7\n",
        "b=10\n",
        "print(a,b)"
      ]
    },
    {
      "cell_type": "code",
      "execution_count": null,
      "metadata": {
        "colab": {
          "base_uri": "https://localhost:8080/"
        },
        "id": "mYpLg2devwd2",
        "outputId": "037d6030-064d-44bb-d7f1-1c77c12423e7"
      },
      "outputs": [],
      "source": [
        "print(\"Male\",\"Female\",sep='  ')"
      ]
    },
    {
      "cell_type": "code",
      "execution_count": null,
      "metadata": {
        "colab": {
          "base_uri": "https://localhost:8080/"
        },
        "id": "s6uNGNvfwEcv",
        "outputId": "33bb19d2-3302-4ce1-b701-d1aad7510442"
      },
      "outputs": [],
      "source": [
        "print(\"09\",\"02\",\"2022\",sep='/')"
      ]
    },
    {
      "cell_type": "code",
      "execution_count": null,
      "metadata": {
        "colab": {
          "base_uri": "https://localhost:8080/"
        },
        "id": "cR3cmIW6we67",
        "outputId": "8345ac9c-31c1-4bbe-d7ff-3ce52ad645b0"
      },
      "outputs": [],
      "source": [
        "print('{0} {2} {1}'.format('python','course','programming'))"
      ]
    },
    {
      "cell_type": "code",
      "execution_count": null,
      "metadata": {
        "colab": {
          "base_uri": "https://localhost:8080/",
          "height": 182
        },
        "id": "4bkljXqfw8kx",
        "outputId": "cf2f8a03-0b51-467f-cec6-12fa7eba1758"
      },
      "outputs": [],
      "source": [
        "number = 45.2365\n",
        "print('%d %s %.3f' % (number,number,number))"
      ]
    },
    {
      "attachments": {},
      "cell_type": "markdown",
      "metadata": {
        "id": "Iw7fxuIl0Cne"
      },
      "source": [
        "# File Handling"
      ]
    },
    {
      "cell_type": "code",
      "execution_count": null,
      "metadata": {
        "id": "PRAyB2yR0MWI"
      },
      "outputs": [],
      "source": [
        "#Write to the file\n",
        "file =open(\"Test.txt\",\"w\")\n",
        "file.write(\"Welcome to Python Training on behalf of cloudthat\")\n",
        "file.close()"
      ]
    },
    {
      "cell_type": "code",
      "execution_count": null,
      "metadata": {
        "colab": {
          "base_uri": "https://localhost:8080/",
          "height": 217
        },
        "id": "l4SCoDwK00ES",
        "outputId": "6a8eb563-030a-433d-dcee-a17369729805"
      },
      "outputs": [],
      "source": [
        "#Read to the file\n",
        "file=open(\"Test.txt\",'r')\n",
        "print(file.read())\n",
        "file.close()"
      ]
    },
    {
      "cell_type": "code",
      "execution_count": null,
      "metadata": {
        "id": "3PcnMPHA1ZVD"
      },
      "outputs": [],
      "source": [
        "file =open(\"Test.txt\",\"a\")\n",
        "file.write(\"\\n Append the next line to the file\")\n",
        "file.close()"
      ]
    },
    {
      "cell_type": "code",
      "execution_count": null,
      "metadata": {
        "id": "oE5vp5_L12gt"
      },
      "outputs": [],
      "source": [
        "import os\n",
        "os.rename(\"Test.txt\", \"Test2.txt\")"
      ]
    },
    {
      "cell_type": "code",
      "execution_count": null,
      "metadata": {
        "id": "wOPKJTa42F-7"
      },
      "outputs": [],
      "source": [
        "os.remove(\"Test2.txt\")"
      ]
    },
    {
      "cell_type": "code",
      "execution_count": null,
      "metadata": {
        "id": "-HPx9d9w2UHF"
      },
      "outputs": [],
      "source": [
        "os.mkdir(\"test_folder\")"
      ]
    },
    {
      "cell_type": "code",
      "execution_count": null,
      "metadata": {
        "colab": {
          "base_uri": "https://localhost:8080/",
          "height": 35
        },
        "id": "gFvtCBzq2bIn",
        "outputId": "a8461143-994b-4432-facb-2e810b4c3b22"
      },
      "outputs": [],
      "source": [
        "os.getcwd()"
      ]
    },
    {
      "cell_type": "code",
      "execution_count": null,
      "metadata": {
        "id": "dpT11M_e2e6i"
      },
      "outputs": [],
      "source": [
        "os.chdir(\"test_folder\")"
      ]
    },
    {
      "cell_type": "code",
      "execution_count": null,
      "metadata": {
        "colab": {
          "base_uri": "https://localhost:8080/",
          "height": 35
        },
        "id": "vTaaAPIf2jpB",
        "outputId": "ab455675-ffc0-4500-fff5-ddbe3457263c"
      },
      "outputs": [],
      "source": [
        "os.getcwd()"
      ]
    },
    {
      "cell_type": "code",
      "execution_count": null,
      "metadata": {
        "id": "IN_GEMbY2owa"
      },
      "outputs": [],
      "source": [
        "os.chdir(\"../\")"
      ]
    },
    {
      "cell_type": "code",
      "execution_count": null,
      "metadata": {
        "colab": {
          "base_uri": "https://localhost:8080/",
          "height": 35
        },
        "id": "3v79jtCA2tL0",
        "outputId": "434ae99c-af86-4ed2-bd9d-b802d117114f"
      },
      "outputs": [],
      "source": [
        "os.getcwd()"
      ]
    },
    {
      "cell_type": "code",
      "execution_count": null,
      "metadata": {
        "id": "V9LSVXgp3TRc"
      },
      "outputs": [],
      "source": [
        "os.rmdir(\"test_folder\")"
      ]
    },
    {
      "attachments": {},
      "cell_type": "markdown",
      "metadata": {
        "id": "pTpAdets6W-A"
      },
      "source": [
        "# Modules"
      ]
    },
    {
      "cell_type": "code",
      "execution_count": null,
      "metadata": {
        "colab": {
          "base_uri": "https://localhost:8080/"
        },
        "id": "xggH16sh6Y1v",
        "outputId": "10b8e816-39c2-4b14-f290-42bf4af453d9"
      },
      "outputs": [],
      "source": [
        "def print_func(par):\n",
        "  print (\"Hello \", par)\n",
        "  return\n",
        "\n",
        "print_func(\"Nikhil\")\n",
        "print_func(\"Vyshnavi\")  "
      ]
    },
    {
      "cell_type": "code",
      "execution_count": null,
      "metadata": {},
      "outputs": [],
      "source": [
        "fun = \"\"\"def print_func(par):\n",
        "  print (\"Hello \", par)\n",
        "  return\"\"\""
      ]
    },
    {
      "cell_type": "code",
      "execution_count": null,
      "metadata": {
        "id": "7Sh7Trpd7ADB"
      },
      "outputs": [],
      "source": [
        "file = open(\"name_print.py\",\"w\")\n",
        "file.write(fun)\n",
        "file.close()"
      ]
    },
    {
      "cell_type": "code",
      "execution_count": null,
      "metadata": {
        "id": "5Tk0ybMg7wBg"
      },
      "outputs": [],
      "source": [
        "import name_print"
      ]
    },
    {
      "cell_type": "code",
      "execution_count": null,
      "metadata": {
        "colab": {
          "base_uri": "https://localhost:8080/"
        },
        "id": "we2r0uqV73Ah",
        "outputId": "ed9ec308-8aea-49f7-dd10-2b8d668a162f"
      },
      "outputs": [],
      "source": [
        "name_print.print_func(\"Anchal\")"
      ]
    },
    {
      "cell_type": "code",
      "execution_count": null,
      "metadata": {
        "colab": {
          "base_uri": "https://localhost:8080/"
        },
        "id": "VFhbJWqhCSx1",
        "outputId": "b741d903-d0c8-4df0-f6ee-511f2f916044"
      },
      "outputs": [],
      "source": [
        "import math\n",
        "print(dir(name_print))"
      ]
    },
    {
      "attachments": {},
      "cell_type": "markdown",
      "metadata": {
        "id": "VTkYQej5JDyf"
      },
      "source": [
        "# Exception Handling"
      ]
    },
    {
      "cell_type": "code",
      "execution_count": null,
      "metadata": {
        "colab": {
          "base_uri": "https://localhost:8080/"
        },
        "id": "VqXyg8QBJF5M",
        "outputId": "e77ab70a-a7b4-4011-c884-de755a89e27d"
      },
      "outputs": [],
      "source": [
        "i=0\n",
        "while True:\n",
        "  print(\"Hello world\")\n",
        "  if (i==10):\n",
        "    break\n",
        "  i +=1"
      ]
    },
    {
      "attachments": {},
      "cell_type": "markdown",
      "metadata": {
        "id": "6qjReqDyLsh4"
      },
      "source": [
        "#Exception Handling"
      ]
    },
    {
      "cell_type": "code",
      "execution_count": null,
      "metadata": {
        "colab": {
          "base_uri": "https://localhost:8080/",
          "height": 165
        },
        "id": "Ttg7_H1hLxI5",
        "outputId": "a893671f-83f6-44e5-99f7-68d0936d6608"
      },
      "outputs": [],
      "source": [
        "4 + demo*3"
      ]
    },
    {
      "cell_type": "code",
      "execution_count": null,
      "metadata": {
        "colab": {
          "base_uri": "https://localhost:8080/",
          "height": 165
        },
        "id": "rrSLImfBL9Op",
        "outputId": "2e67777c-7c1c-49e6-ab29-6c1ec5c8a188"
      },
      "outputs": [],
      "source": [
        "10/0"
      ]
    },
    {
      "cell_type": "code",
      "execution_count": null,
      "metadata": {
        "colab": {
          "base_uri": "https://localhost:8080/",
          "height": 35
        },
        "id": "wauakUBGMCVo",
        "outputId": "914f8005-391e-4e34-ac6a-beeac1af3996"
      },
      "outputs": [],
      "source": [
        "'2' + '3' "
      ]
    },
    {
      "cell_type": "code",
      "execution_count": null,
      "metadata": {
        "colab": {
          "base_uri": "https://localhost:8080/",
          "height": 217
        },
        "id": "V5KsQuWWNPTC",
        "outputId": "77aa1d4a-ed70-4e4d-f566-bb54493df86d"
      },
      "outputs": [],
      "source": [
        "x=int(input(\"enter the number:\"))\n",
        "y=10/x\n",
        "print(y)"
      ]
    },
    {
      "cell_type": "code",
      "execution_count": null,
      "metadata": {
        "colab": {
          "base_uri": "https://localhost:8080/"
        },
        "id": "gneRd6u9MeN5",
        "outputId": "d909c3e4-d1ea-46c1-c22e-7e95ae2f5381"
      },
      "outputs": [],
      "source": [
        "while True:\n",
        "  try:\n",
        "    x=int(input(\"enter the number:\"))\n",
        "    y=10/x\n",
        "    print(y)\n",
        "    break\n",
        "  except ZeroDivisionError:\n",
        "    print(\"enter a valid number greater than 0\")   "
      ]
    },
    {
      "cell_type": "code",
      "execution_count": 1,
      "metadata": {
        "colab": {
          "base_uri": "https://localhost:8080/",
          "height": 165
        },
        "id": "i20KRvu8OIpo",
        "outputId": "827d66af-8257-4b00-83c6-fcc8d7de0c8e"
      },
      "outputs": [
        {
          "name": "stdout",
          "output_type": "stream",
          "text": [
            "Unkown Error\n"
          ]
        }
      ],
      "source": [
        "try:\n",
        "    aa=bb\n",
        "except ZeroDivisionError:\n",
        "    print(\"Error: ZeroDivisionError\")\n",
        "except:\n",
        "    print(\"Unkown Error\")"
      ]
    },
    {
      "cell_type": "code",
      "execution_count": null,
      "metadata": {
        "id": "hqD1PsrpOly6"
      },
      "outputs": [],
      "source": [
        "bb=10"
      ]
    },
    {
      "cell_type": "code",
      "execution_count": 2,
      "metadata": {
        "id": "oUeWTn1hOQZc"
      },
      "outputs": [
        {
          "name": "stdout",
          "output_type": "stream",
          "text": [
            "the user has not defined the variable bb\n"
          ]
        }
      ],
      "source": [
        "try:\n",
        "  aa=bb\n",
        "except NameError:\n",
        "  print(\"the user has not defined the variable bb\") "
      ]
    },
    {
      "cell_type": "code",
      "execution_count": 3,
      "metadata": {
        "colab": {
          "base_uri": "https://localhost:8080/"
        },
        "id": "37rSNlbGOtYp",
        "outputId": "6435b6ff-54c2-408a-82ac-e14981f43673"
      },
      "outputs": [
        {
          "ename": "NameError",
          "evalue": "name 'aa' is not defined",
          "output_type": "error",
          "traceback": [
            "\u001b[1;31m---------------------------------------------------------------------------\u001b[0m",
            "\u001b[1;31mNameError\u001b[0m                                 Traceback (most recent call last)",
            "Cell \u001b[1;32mIn[3], line 1\u001b[0m\n\u001b[1;32m----> 1\u001b[0m aa\n",
            "\u001b[1;31mNameError\u001b[0m: name 'aa' is not defined"
          ]
        }
      ],
      "source": [
        "aa"
      ]
    },
    {
      "cell_type": "code",
      "execution_count": 4,
      "metadata": {
        "colab": {
          "base_uri": "https://localhost:8080/",
          "height": 200
        },
        "id": "U8B-6SldO0E8",
        "outputId": "fc2fabef-bc3d-4e27-f4bc-46763c18bdf4"
      },
      "outputs": [
        {
          "ename": "TypeError",
          "evalue": "unsupported operand type(s) for +: 'int' and 'str'",
          "output_type": "error",
          "traceback": [
            "\u001b[1;31m---------------------------------------------------------------------------\u001b[0m",
            "\u001b[1;31mTypeError\u001b[0m                                 Traceback (most recent call last)",
            "Cell \u001b[1;32mIn[4], line 3\u001b[0m\n\u001b[0;32m      1\u001b[0m x\u001b[39m=\u001b[39m\u001b[39m1\u001b[39m\n\u001b[0;32m      2\u001b[0m y\u001b[39m=\u001b[39m\u001b[39m'\u001b[39m\u001b[39m2\u001b[39m\u001b[39m'\u001b[39m\n\u001b[1;32m----> 3\u001b[0m z\u001b[39m=\u001b[39mx\u001b[39m+\u001b[39;49my\n",
            "\u001b[1;31mTypeError\u001b[0m: unsupported operand type(s) for +: 'int' and 'str'"
          ]
        }
      ],
      "source": [
        "x=1\n",
        "y='2'\n",
        "z=x+y"
      ]
    },
    {
      "cell_type": "code",
      "execution_count": 11,
      "metadata": {
        "colab": {
          "base_uri": "https://localhost:8080/"
        },
        "id": "NuyRpZDgO89D",
        "outputId": "ec367d15-adca-458b-a7c6-b57fef6d34de"
      },
      "outputs": [
        {
          "name": "stdout",
          "output_type": "stream",
          "text": [
            "Enter a valid integer: can only concatenate str (not \"int\") to str\n"
          ]
        }
      ],
      "source": [
        "try:\n",
        "  x=1\n",
        "  y='2'\n",
        "  z=y+x\n",
        "except TypeError as e:\n",
        "  print(\"Enter a valid integer:\", e)\n"
      ]
    },
    {
      "cell_type": "code",
      "execution_count": 12,
      "metadata": {
        "colab": {
          "base_uri": "https://localhost:8080/"
        },
        "id": "UHqzXa4XPTfN",
        "outputId": "b367331b-1956-4c58-ade6-401bde8bdccc"
      },
      "outputs": [
        {
          "name": "stdout",
          "output_type": "stream",
          "text": [
            "Enter number greater than 0:  division by zero\n",
            "the execution is done\n"
          ]
        }
      ],
      "source": [
        "try:\n",
        "  x=int(input(\"enter the number \"))\n",
        "  y=20/x\n",
        "except ZeroDivisionError as e:\n",
        "  print(\"Enter number greater than 0: \", e)\n",
        "else:\n",
        "  print(\"quotient is\",y)\n",
        "finally:\n",
        "  print(\"the execution is done\")"
      ]
    },
    {
      "cell_type": "code",
      "execution_count": null,
      "metadata": {
        "colab": {
          "base_uri": "https://localhost:8080/",
          "height": 200
        },
        "id": "20enlxsfRePz",
        "outputId": "c0e0d06a-be70-40f2-d9cc-a4d334b1c1d6"
      },
      "outputs": [],
      "source": [
        "x=int(input(\"enter the number \"))\n",
        "y=20/x"
      ]
    },
    {
      "cell_type": "code",
      "execution_count": null,
      "metadata": {
        "colab": {
          "base_uri": "https://localhost:8080/"
        },
        "id": "8YQO05fGRwXk",
        "outputId": "e2f5e19b-554a-41d7-bc03-c0a742c59666"
      },
      "outputs": [],
      "source": [
        "try:\n",
        "  x=int(input(\"Enter the number\"))\n",
        "  y=20/x\n",
        "except TypeError:\n",
        "  print(\"Enter a valid Integer in TypeError\")\n",
        "except ValueError:\n",
        "  print(\"Enter a valid Integer in ValueError\")\n",
        "except ZeroDivisionError:\n",
        "  print(\"Enter a valid integer greater than 0\")  \n"
      ]
    },
    {
      "cell_type": "code",
      "execution_count": null,
      "metadata": {
        "id": "-DnHdoTaTlk7"
      },
      "outputs": [],
      "source": [
        "try:\n",
        "    print('Try Block')\n",
        "    x=int(input('Enter a number: '))\n",
        "    y=int(input('Enter another number: '))\n",
        "    z=x/y\n",
        "except ZeroDivisionError:\n",
        "    print(\"except ZeroDivisionError block\")\n",
        "    print(\"Division by 0 not accepted\")\n",
        "else:\n",
        "    print(\"Else Block\")\n",
        "    print(\"Division = \", z)\n",
        "finally:\n",
        "    print(\"Finally Block\")\n",
        "    x=0\n",
        "    y=0\n",
        "print (\"Out of try, except, else and finally blocks.\" )"
      ]
    },
    {
      "cell_type": "code",
      "execution_count": null,
      "metadata": {
        "colab": {
          "base_uri": "https://localhost:8080/"
        },
        "id": "MCKWNrneXZ5v",
        "outputId": "56ab0f19-5ae6-49ff-86e4-accf7ac7792b"
      },
      "outputs": [],
      "source": [
        "try:\n",
        "  x=1/0\n",
        "except Exception as ex:\n",
        "  print(ex)  "
      ]
    },
    {
      "cell_type": "code",
      "execution_count": null,
      "metadata": {
        "colab": {
          "base_uri": "https://localhost:8080/",
          "height": 165
        },
        "id": "P5FrwoVKX-xW",
        "outputId": "c879da69-3273-4d44-a861-7fabe9b97a3f"
      },
      "outputs": [],
      "source": [
        "x=1/0"
      ]
    },
    {
      "cell_type": "code",
      "execution_count": null,
      "metadata": {},
      "outputs": [],
      "source": [
        "def addToStudentList(slist, mark):\n",
        "    if type(slist) == list:\n",
        "        if mark >= 0:\n",
        "            slist.append(mark)\n",
        "        else:\n",
        "            raise Exception(\"Enter positive marks only\")\n",
        "    else:\n",
        "        raise Exception(\"First value must be s type of list\")\n",
        "\n",
        "slist = 10\n",
        "addToStudentList(slist, 100)"
      ]
    },
    {
      "cell_type": "code",
      "execution_count": null,
      "metadata": {},
      "outputs": [],
      "source": [
        "slist = 10"
      ]
    },
    {
      "cell_type": "code",
      "execution_count": null,
      "metadata": {},
      "outputs": [],
      "source": [
        "addToStudentList(slist, 100)"
      ]
    },
    {
      "cell_type": "code",
      "execution_count": null,
      "metadata": {},
      "outputs": [],
      "source": [
        "slist"
      ]
    }
  ],
  "metadata": {
    "colab": {
      "collapsed_sections": [
        "v93N9-yh6mf4",
        "yGbmhSgdbu_h",
        "-xvi9IpTy_Ss",
        "I7mayY2Ivy2h"
      ],
      "provenance": []
    },
    "kernelspec": {
      "display_name": "Python 3",
      "language": "python",
      "name": "python3"
    },
    "language_info": {
      "codemirror_mode": {
        "name": "ipython",
        "version": 3
      },
      "file_extension": ".py",
      "mimetype": "text/x-python",
      "name": "python",
      "nbconvert_exporter": "python",
      "pygments_lexer": "ipython3",
      "version": "3.11.1"
    },
    "vscode": {
      "interpreter": {
        "hash": "52634da84371cba311ea128a5ea7cdc41ff074b781779e754b270ff9f8153cee"
      }
    }
  },
  "nbformat": 4,
  "nbformat_minor": 0
}
