{
  "cells": [
    {
      "attachments": {},
      "cell_type": "markdown",
      "metadata": {
        "id": "cDsRT6xM2gT_"
      },
      "source": [
        "### Variables"
      ]
    },
    {
      "cell_type": "code",
      "execution_count": null,
      "metadata": {
        "id": "cF2oxIaLpIcG"
      },
      "outputs": [],
      "source": [
        "X=1\n",
        "Y=2.2\n",
        "Z=\"STRATACENT\"\n",
        "A='2'"
      ]
    },
    {
      "cell_type": "code",
      "execution_count": null,
      "metadata": {
        "colab": {
          "base_uri": "https://localhost:8080/"
        },
        "id": "FWEi7-zmpP3z",
        "outputId": "78f52c0c-b1ba-472e-b79e-7982088dd845"
      },
      "outputs": [],
      "source": [
        "print(\"Datatype of X\",type(X))\n",
        "print(\"Datatype of Y\",type(Y))\n",
        "print(\"Datatype of Z\",type(Z))\n",
        "print(\"Datatype of A\",type(A))"
      ]
    },
    {
      "cell_type": "code",
      "execution_count": null,
      "metadata": {
        "colab": {
          "base_uri": "https://localhost:8080/"
        },
        "id": "kKfyT8Tzp3fl",
        "outputId": "fd6a1e81-7a26-412f-a18d-ea74a229837a"
      },
      "outputs": [],
      "source": [
        "X=2\n",
        "Y=4\n",
        "X+Y\n",
        "X-Y"
      ]
    },
    {
      "cell_type": "code",
      "execution_count": null,
      "metadata": {
        "colab": {
          "base_uri": "https://localhost:8080/",
          "height": 35
        },
        "id": "iY8LYCxCp8h6",
        "outputId": "e94f13f7-e9b2-4acf-b894-b369d9f0d0b7"
      },
      "outputs": [],
      "source": [
        "X=\"Python\"\n",
        "Y=\"Training\"\n",
        "X+Y"
      ]
    },
    {
      "cell_type": "code",
      "execution_count": null,
      "metadata": {
        "colab": {
          "base_uri": "https://localhost:8080/"
        },
        "id": "BgjWISKBthZE",
        "outputId": "12ffa024-d2e6-4a89-ac39-c9c81e97f7da"
      },
      "outputs": [],
      "source": [
        "a,b,c = 1, \"india\", 1.5\n",
        "print(\"a:\",a)\n",
        "print(\"Dtype of b\", type(b))\n",
        "print(b)"
      ]
    },
    {
      "cell_type": "code",
      "execution_count": null,
      "metadata": {
        "colab": {
          "base_uri": "https://localhost:8080/",
          "height": 35
        },
        "id": "x-moRSpGt-AL",
        "outputId": "c7ae1590-829b-4d60-d501-c283106a5511"
      },
      "outputs": [],
      "source": [
        "X='Welcome'\n",
        "Y=3\n",
        "X*Y"
      ]
    },
    {
      "cell_type": "code",
      "execution_count": null,
      "metadata": {
        "colab": {
          "base_uri": "https://localhost:8080/"
        },
        "id": "YExry0VWu0Yk",
        "outputId": "e0dba56c-120a-490c-f881-84ff8244e0c5"
      },
      "outputs": [],
      "source": [
        "X=\"cloudthat\"\n",
        "print(X[:5])"
      ]
    },
    {
      "cell_type": "code",
      "execution_count": null,
      "metadata": {
        "colab": {
          "base_uri": "https://localhost:8080/"
        },
        "id": "5vNZsjiD1tTD",
        "outputId": "3404267c-c203-49d2-f9a7-ed4c7b1de33d"
      },
      "outputs": [],
      "source": [
        "X=1.1\n",
        "Y=2\n",
        "Z=-23.2\n",
        "print(\"Dataype of X\",type(X))\n",
        "print(\"Dataype of X\",type(Y))\n",
        "print(\"Dataype of X\",type(Z))"
      ]
    },
    {
      "cell_type": "code",
      "execution_count": null,
      "metadata": {
        "colab": {
          "base_uri": "https://localhost:8080/"
        },
        "id": "qKRplgLS2RDm",
        "outputId": "4648f217-93de-424b-cdef-97258f3a1efd"
      },
      "outputs": [],
      "source": [
        "X=\"Cloudthat\"\n",
        "Y=\"KPMG\"\n",
        "print(X+Y)\n",
        "print(X + ' & ' + Y)"
      ]
    },
    {
      "cell_type": "code",
      "execution_count": null,
      "metadata": {
        "colab": {
          "base_uri": "https://localhost:8080/"
        },
        "id": "X5abayxk2tNs",
        "outputId": "04af6ff4-f397-4465-ef04-898525c37b81"
      },
      "outputs": [],
      "source": [
        "print(Y*2)"
      ]
    },
    {
      "cell_type": "code",
      "execution_count": null,
      "metadata": {
        "id": "mny_uGiw24JY"
      },
      "outputs": [],
      "source": [
        "Z=Y[1]+Y[3]\n",
        "print(Z)"
      ]
    },
    {
      "cell_type": "code",
      "execution_count": null,
      "metadata": {
        "colab": {
          "base_uri": "https://localhost:8080/",
          "height": 35
        },
        "id": "w4S1t9IH3SzD",
        "outputId": "25b2bf8b-9bf7-43dc-98e3-2a1e9610019d"
      },
      "outputs": [],
      "source": [
        "X.capitalize()"
      ]
    },
    {
      "cell_type": "code",
      "execution_count": null,
      "metadata": {
        "colab": {
          "base_uri": "https://localhost:8080/"
        },
        "id": "uKDvMS964Ss-",
        "outputId": "c73849ab-a8a0-4828-bc9a-a4541a52b45c"
      },
      "outputs": [],
      "source": [
        "X=5\n",
        "Y=10\n",
        "print(X==Y)"
      ]
    },
    {
      "cell_type": "code",
      "execution_count": null,
      "metadata": {
        "colab": {
          "base_uri": "https://localhost:8080/"
        },
        "id": "Lfc2fl5D5AnW",
        "outputId": "d119bd7b-afe3-4769-f785-e7a17a2522c6"
      },
      "outputs": [],
      "source": [
        "print(X<Y)"
      ]
    },
    {
      "cell_type": "code",
      "execution_count": null,
      "metadata": {
        "colab": {
          "base_uri": "https://localhost:8080/"
        },
        "id": "w-_XuqW25UAr",
        "outputId": "98dd7a5e-aa08-4487-f2ae-ef1456459cf9"
      },
      "outputs": [],
      "source": [
        "X=5\n",
        "Y=2\n",
        "Z=(X>Y)\n",
        "if Z:\n",
        "  print(\"X is greater than Y\")\n",
        "else:\n",
        "  print(\"X is not greater than Y\")  "
      ]
    },
    {
      "attachments": {},
      "cell_type": "markdown",
      "metadata": {},
      "source": [
        "##### Rules for Naming Python Variables\n",
        "Constant and variable names should have a combination of letters in lowercase (a to z) or uppercase (A to Z) or digits (0 to 9) or an underscore (_). \n",
        "\n",
        "For example:\n",
        "\n",
        "<pre>my_name\n",
        "current_salary</pre>"
      ]
    },
    {
      "attachments": {},
      "cell_type": "markdown",
      "metadata": {
        "id": "v93N9-yh6mf4"
      },
      "source": [
        "***\n",
        "# Operators"
      ]
    },
    {
      "attachments": {},
      "cell_type": "markdown",
      "metadata": {
        "id": "-tSIA8cQ6wxZ"
      },
      "source": [
        "### Arithmetic Operator"
      ]
    },
    {
      "cell_type": "code",
      "execution_count": null,
      "metadata": {
        "colab": {
          "base_uri": "https://localhost:8080/"
        },
        "id": "Eh7ZOqUr62JP",
        "outputId": "f978bca6-fbaa-42f4-ce01-6a1746afda4e"
      },
      "outputs": [],
      "source": [
        "X=5\n",
        "Y=2\n",
        "print(\"Addtion\",X+Y)\n",
        "print(\"Multiplication\",X*Y)\n",
        "print(\"Modulus\",X%Y) #Remainder\n",
        "print(\"Division\",X/Y)\n",
        "print(\"Floor Division \",X//Y) #quotient\n",
        "print(\"Exponent\",X**Y)"
      ]
    },
    {
      "cell_type": "code",
      "execution_count": null,
      "metadata": {
        "colab": {
          "base_uri": "https://localhost:8080/"
        },
        "id": "SIz59Yad8bny",
        "outputId": "83dea98d-018b-4779-d135-df5a4d6c9311"
      },
      "outputs": [],
      "source": [
        "X='5'\n",
        "Y='2'\n",
        "print(X+Y)"
      ]
    },
    {
      "cell_type": "code",
      "execution_count": null,
      "metadata": {
        "colab": {
          "base_uri": "https://localhost:8080/"
        },
        "id": "k1R-Bv9P8lfc",
        "outputId": "42ee2388-3eb9-4b60-f0d7-6888ba1a587d"
      },
      "outputs": [],
      "source": [
        "X=50\n",
        "Y='-'\n",
        "print(X*Y)"
      ]
    },
    {
      "cell_type": "code",
      "execution_count": null,
      "metadata": {
        "id": "lqLlCeFJ8xXc"
      },
      "outputs": [],
      "source": [
        "X=25\n",
        "Y=15\n",
        "X += Y\n",
        "print(X)"
      ]
    },
    {
      "cell_type": "code",
      "execution_count": null,
      "metadata": {
        "colab": {
          "base_uri": "https://localhost:8080/"
        },
        "id": "I8seeSvo-hFP",
        "outputId": "09d4d80c-33e0-46e6-dc52-9b050065348d"
      },
      "outputs": [],
      "source": [
        "X=20\n",
        "Y=20\n",
        "print(X==Y)\n",
        "print(X!=Y)\n",
        "print(X>Y)\n",
        "print(X<Y)\n",
        "print(X>=Y)\n",
        "print(X<=Y)"
      ]
    },
    {
      "attachments": {},
      "cell_type": "markdown",
      "metadata": {
        "id": "ycXooEHKAAit"
      },
      "source": [
        "### Identity Operator"
      ]
    },
    {
      "cell_type": "code",
      "execution_count": null,
      "metadata": {
        "colab": {
          "base_uri": "https://localhost:8080/"
        },
        "id": "8wTh6ta9__QP",
        "outputId": "a3189a60-8d9e-41ab-ec0c-8c1dca2c04fb"
      },
      "outputs": [],
      "source": [
        "a=20\n",
        "b=30\n",
        "c=a\n",
        "print(a is b)\n",
        "print(a is not b)\n",
        "print(c is a)\n",
        "print(id(a))\n",
        "print(id(b))\n",
        "print(id(c))"
      ]
    },
    {
      "attachments": {},
      "cell_type": "markdown",
      "metadata": {
        "id": "NpNWzQHUBQMg"
      },
      "source": [
        "### Logical operator"
      ]
    },
    {
      "cell_type": "code",
      "execution_count": null,
      "metadata": {
        "colab": {
          "base_uri": "https://localhost:8080/"
        },
        "id": "4hafzJbUBOX9",
        "outputId": "9795af52-5ae4-43f7-d418-6be077eaad55"
      },
      "outputs": [],
      "source": [
        "a=10\n",
        "print(a>2 and a>15)\n",
        "print(a>2 and a<15)\n",
        "print(a>2 or a>15)"
      ]
    },
    {
      "attachments": {},
      "cell_type": "markdown",
      "metadata": {
        "id": "B-2-i1GNDHas"
      },
      "source": [
        "### Bitwise operator"
      ]
    },
    {
      "cell_type": "code",
      "execution_count": null,
      "metadata": {
        "colab": {
          "base_uri": "https://localhost:8080/"
        },
        "id": "0GiH846XDGCS",
        "outputId": "c0492b61-50dc-4f83-d745-8ab883d2f2b1"
      },
      "outputs": [],
      "source": [
        "a=5\n",
        "b=21\n",
        "c=a | b\n",
        "print(c)"
      ]
    },
    {
      "attachments": {},
      "cell_type": "markdown",
      "metadata": {
        "id": "wEoMjRXVFYSD"
      },
      "source": [
        "### Membership operator"
      ]
    },
    {
      "cell_type": "code",
      "execution_count": null,
      "metadata": {
        "colab": {
          "base_uri": "https://localhost:8080/"
        },
        "id": "rXENBaVxFdXE",
        "outputId": "20e26750-a711-46ab-b3ce-290b1a4ec5eb"
      },
      "outputs": [],
      "source": [
        "a=[1,2,3,4,5]\n",
        "print(20 in a)\n",
        "print(20 not in a)\n",
        "print(2 not in a)"
      ]
    },
    {
      "cell_type": "code",
      "execution_count": null,
      "metadata": {},
      "outputs": [],
      "source": [
        "x = \"print\"\n",
        "'n' in x"
      ]
    },
    {
      "cell_type": "code",
      "execution_count": null,
      "metadata": {
        "colab": {
          "base_uri": "https://localhost:8080/"
        },
        "id": "EQ9PV9NkGN-9",
        "outputId": "23c3fd9d-c331-4d4c-d211-42015308a095"
      },
      "outputs": [],
      "source": [
        "str=\"helloworld\"\n",
        "print('w' in str)\n",
        "print(\"W\" in str)\n",
        "print(\"O\" not in str)\n",
        "print(\"hello \" in str)"
      ]
    },
    {
      "attachments": {},
      "cell_type": "markdown",
      "metadata": {},
      "source": [
        "String Comparison Operator "
      ]
    },
    {
      "cell_type": "code",
      "execution_count": null,
      "metadata": {},
      "outputs": [],
      "source": [
        "string_comp1=\"hello\" \n",
        "string_comp2=\"hello,world\" \n",
        "string_comp3=\"hello,world\" \n",
        "string_comp4=\"world\" \n",
        "print(string_comp1==string_comp4) \n",
        "print(string_comp2==string_comp3) \n",
        "print(string_comp1!=string_comp4) \n",
        "print(string_comp2!=string_comp3) "
      ]
    },
    {
      "cell_type": "code",
      "execution_count": null,
      "metadata": {},
      "outputs": [],
      "source": [
        "#Membership Operator “in” & “not in” \n",
        "string_mem=\"helloworld\" \n",
        "print(\"w\" in string_mem) \n",
        "print(\"W\" in string_mem) \n",
        "print(\"t\" in string_mem) \n",
        "print(\"t\" not in string_mem) \n",
        "print(\"hello\" in string_mem) \n",
        "print(\"Hello\" in string_mem) \n",
        "print(\"hello\" not in string_mem) "
      ]
    },
    {
      "cell_type": "code",
      "execution_count": null,
      "metadata": {
        "id": "FQrCiyXbIgPm"
      },
      "outputs": [],
      "source": [
        "#Escape Sequence Operator \n",
        "string = \"Hello world I am from \\\"India\\\"\" \n",
        "print(string) \n",
        " \n",
        "#String Formatting Operator “%.” \n",
        "name = \"india\" \n",
        "age = 19 \n",
        "marks = 20.56 \n",
        "\n",
        "string_for1 = 'Hey %s' % (name) \n",
        "print(string_for1) \n",
        "\n",
        "string_for2 = 'My age is %d' % (age) \n",
        "print(string_for2) \n",
        "\n",
        "string_for3= 'Hey %s, my age is %d' % (name, age) \n",
        "print(string_for3) \n",
        "\n",
        "\n",
        "string_for3= 'Hey %s, my subject mark is %f' % (name, marks) \n",
        "print(string_for3) "
      ]
    },
    {
      "cell_type": "code",
      "execution_count": null,
      "metadata": {},
      "outputs": [],
      "source": [
        "string_for3= 'Hey {}, my subject mark is {}'.format(name, marks) \n",
        "print(string_for3)"
      ]
    },
    {
      "cell_type": "code",
      "execution_count": null,
      "metadata": {
        "colab": {
          "base_uri": "https://localhost:8080/"
        },
        "id": "qAd3f9xrKSgz",
        "outputId": "1e02b4ca-0b44-4ff0-92ff-5294aafd1647"
      },
      "outputs": [],
      "source": [
        "string=\"Hello world I am from \\\"India\\\" and \\n I can speak hindi\" \n",
        "print(string) "
      ]
    },
    {
      "attachments": {},
      "cell_type": "markdown",
      "metadata": {},
      "source": [
        "### Namespace"
      ]
    },
    {
      "cell_type": "code",
      "execution_count": null,
      "metadata": {},
      "outputs": [],
      "source": [
        "# global_var is in the global namespace\n",
        "global_var = 10\n",
        "\n",
        "def outer_function():\n",
        "    #  outer_var is in the local namespace \n",
        "    outer_var = 20\n",
        "\n",
        "    def inner_function():\n",
        "        #  inner_var is in the nested local namespace \n",
        "        inner_var = 30\n",
        "\n",
        "        print(inner_var)\n",
        "\n",
        "    print(outer_var)\n",
        "\n",
        "    inner_function()\n",
        "\n",
        "# print the value of the global variable\n",
        "print(global_var)\n",
        "\n",
        "# call the outer function and print local and nested local variables\n",
        "outer_function()"
      ]
    },
    {
      "cell_type": "code",
      "execution_count": null,
      "metadata": {},
      "outputs": [],
      "source": [
        "def outer():\n",
        "    # global string\n",
        "    string = \"Outer_var\" \n",
        "    def inner():\n",
        "        # Overwriting value of a variable string\n",
        "        string= \"Outer_var changed in inner function\" \n",
        "        print(\"inner function:\", string)\n",
        " \n",
        "    inner()\n",
        "    print(\"outer function:\", string)\n",
        " \n",
        "outer()"
      ]
    },
    {
      "attachments": {},
      "cell_type": "markdown",
      "metadata": {},
      "source": [
        "The nonlocal keyword is used to work with variables inside nested functions, where the variable should not belong to the inner function."
      ]
    },
    {
      "cell_type": "code",
      "execution_count": null,
      "metadata": {},
      "outputs": [],
      "source": [
        "def outer():\n",
        "    string = \"Outer_var\" # Local Variable\n",
        "    def inner():\n",
        "        #declaring a non local variable\n",
        "        nonlocal string \n",
        "        # Overwriting value of a variable string\n",
        "        string= \"Outer_var changed in inner function\" \n",
        "        print(\"inner function:\", string)\n",
        " \n",
        "    inner()\n",
        "    print(\"outer function:\", string)\n",
        " \n",
        "outer()"
      ]
    },
    {
      "attachments": {},
      "cell_type": "markdown",
      "metadata": {},
      "source": [
        "#### Python Type Conversion\n",
        "\n",
        "1. Implicit\n",
        "2. Explicit"
      ]
    },
    {
      "cell_type": "code",
      "execution_count": null,
      "metadata": {},
      "outputs": [],
      "source": [
        "weight = 23\n",
        "height = 4.23\n",
        "\n",
        "bmi = weight/(height/100)**2\n",
        "\n",
        "# display new value and resulting data type\n",
        "print(\"Value:\",bmi)\n",
        "print(\"Data Type:\",type(bmi))"
      ]
    },
    {
      "cell_type": "code",
      "execution_count": null,
      "metadata": {},
      "outputs": [],
      "source": [
        "x = '10'\n",
        "y = 20\n",
        "\n",
        "print(type(x))\n",
        "print(type(y))\n",
        "\n",
        "x = int(x)\n",
        "\n",
        "print(type(x))\n",
        "print(type(y))\n",
        "\n",
        "print(x+y)"
      ]
    },
    {
      "cell_type": "markdown",
      "metadata": {},
      "source": [
        "#### Python I/O and Import"
      ]
    },
    {
      "cell_type": "code",
      "execution_count": null,
      "metadata": {},
      "outputs": [],
      "source": [
        "x = 10\n",
        "print(x)"
      ]
    },
    {
      "cell_type": "code",
      "execution_count": null,
      "metadata": {},
      "outputs": [],
      "source": [
        "price = 45.6\n",
        "units = 10\n",
        "name = 'Pen'\n",
        "\n",
        "print('Produt {0} price is {1} Rs.'.format(name, price))\n",
        "print('Total cost for {u} {n} is {tot}'.format(n=name, u=units, tot=units*price))"
      ]
    },
    {
      "cell_type": "code",
      "execution_count": null,
      "metadata": {},
      "outputs": [],
      "source": [
        "print('a', end=' ')\n",
        "print('b', end=' ')\n",
        "print('c')"
      ]
    },
    {
      "attachments": {},
      "cell_type": "markdown",
      "metadata": {},
      "source": [
        "Input"
      ]
    },
    {
      "cell_type": "code",
      "execution_count": null,
      "metadata": {},
      "outputs": [],
      "source": [
        "num = input('Enter a number: ')\n",
        "\n",
        "print('You Entered:', num)\n",
        "\n",
        "print('Data type of num:', type(num))"
      ]
    },
    {
      "attachments": {},
      "cell_type": "markdown",
      "metadata": {
        "id": "yGbmhSgdbu_h"
      },
      "source": [
        "### Decision making"
      ]
    },
    {
      "attachments": {},
      "cell_type": "markdown",
      "metadata": {},
      "source": [
        "If Condition"
      ]
    },
    {
      "cell_type": "code",
      "execution_count": null,
      "metadata": {
        "colab": {
          "base_uri": "https://localhost:8080/"
        },
        "id": "ahH0GNI_bzR9",
        "outputId": "7635f42e-c09a-412d-9936-999817dc4654"
      },
      "outputs": [],
      "source": [
        "a=330\n",
        "b=150\n",
        "c = 200\n",
        "\n",
        "if b>a:\n",
        "  print(\"b is greater than a\")\n",
        "  print(\"Value of b is: \", b)\n",
        "elif c > a:\n",
        "  print(\"a is greater than b\")  \n",
        "  print(\"Value of a is: \", a)\n",
        "\n",
        "print(\"outside of the if statement \")\n"
      ]
    },
    {
      "cell_type": "code",
      "execution_count": null,
      "metadata": {
        "id": "r3ZRrS7Fck61"
      },
      "outputs": [],
      "source": [
        "a=330\n",
        "b=150\n",
        "if b>a:\n",
        "  print(\"b is greater than a\")"
      ]
    },
    {
      "cell_type": "code",
      "execution_count": null,
      "metadata": {
        "colab": {
          "base_uri": "https://localhost:8080/"
        },
        "id": "cy_8OgzVc5e8",
        "outputId": "c6c45f7c-5ef8-460f-bb2d-009e4410ba85"
      },
      "outputs": [],
      "source": [
        "a=150\n",
        "b=150\n",
        "if (b>a):\n",
        "  print(\"b is greater than a\")\n",
        "elif (b==a):\n",
        "  print(\"b is equal to a\")\n",
        "else:\n",
        "  print(\"b is less than a\")  "
      ]
    },
    {
      "cell_type": "code",
      "execution_count": null,
      "metadata": {
        "colab": {
          "base_uri": "https://localhost:8080/"
        },
        "id": "-e4TpAiRduag",
        "outputId": "013eeea4-5438-44db-a1ad-8f5577f8842e"
      },
      "outputs": [],
      "source": [
        "X=21\n",
        "if (X>10):\n",
        "  print(\"X is greater than 10\")\n",
        "  if (X>20):\n",
        "    print(\"X is greater than 20 also\")\n",
        "  else:\n",
        "    print(\"X is in between 10 and 20\")\n",
        "else:\n",
        "  print(\"X is less than/equal to 10\")      "
      ]
    },
    {
      "cell_type": "code",
      "execution_count": null,
      "metadata": {
        "colab": {
          "base_uri": "https://localhost:8080/"
        },
        "id": "9meFBED_ghn0",
        "outputId": "94588c8b-ab69-4bd1-c982-7db64388ecf9"
      },
      "outputs": [],
      "source": [
        "a=20\n",
        "b=10\n",
        "print(\"a:\",a) if a>b else print(\"b:\", b)"
      ]
    },
    {
      "cell_type": "code",
      "execution_count": null,
      "metadata": {},
      "outputs": [],
      "source": [
        "x = 20\n",
        "x%2"
      ]
    },
    {
      "cell_type": "code",
      "execution_count": null,
      "metadata": {
        "colab": {
          "base_uri": "https://localhost:8080/"
        },
        "id": "N28UYMqDhTv_",
        "outputId": "401f00dc-bb9d-4909-a668-16ee8f817cb8"
      },
      "outputs": [],
      "source": [
        "X=20\n",
        "print(\"odd\") if (X%2) else print(\"even\")"
      ]
    },
    {
      "attachments": {},
      "cell_type": "markdown",
      "metadata": {},
      "source": [
        "### Loops"
      ]
    },
    {
      "cell_type": "code",
      "execution_count": null,
      "metadata": {
        "colab": {
          "base_uri": "https://localhost:8080/"
        },
        "id": "59km6Cv5h9Ql",
        "outputId": "d4876bbe-9f63-4e35-a1e1-d73dce17fd96"
      },
      "outputs": [],
      "source": [
        "print(\"printing the numbers from 1 to 10\")\n",
        "a=1\n",
        "while (a<=10):\n",
        "  print(a)\n",
        "  a += 1"
      ]
    },
    {
      "cell_type": "code",
      "execution_count": null,
      "metadata": {
        "colab": {
          "base_uri": "https://localhost:8080/"
        },
        "id": "Czo8p9sXllUR",
        "outputId": "facfc4fb-c2b7-45e0-d530-7caed6925ac5"
      },
      "outputs": [],
      "source": [
        "i=1\n",
        "while (i<6):\n",
        "  print(i)\n",
        "  i=i+1\n",
        "  if (i==3):\n",
        "    break\n",
        "  print(\"doing some operation\")\n",
        "\n",
        "print(\"Out of loop\")    "
      ]
    },
    {
      "cell_type": "code",
      "execution_count": null,
      "metadata": {},
      "outputs": [],
      "source": [
        "number = 23\n",
        "running = True\n",
        "\n",
        "while running:\n",
        "    guess = int(input('Enter an integer : '))\n",
        "\n",
        "    if guess == number:\n",
        "        print('Congratulations, you guessed it.')\n",
        "        # this causes the while loop to stop\n",
        "        running = False\n",
        "    elif guess < number:\n",
        "        print('No, it is a little higher than that.')\n",
        "    else:\n",
        "        print('No, it is a little lower than that.')\n",
        "else:\n",
        "    print('The while loop is over.')\n",
        "    # Do anything else you want to do here"
      ]
    },
    {
      "cell_type": "code",
      "execution_count": null,
      "metadata": {
        "colab": {
          "base_uri": "https://localhost:8080/"
        },
        "id": "D2YMmHqKojS3",
        "outputId": "975a4b5f-f224-4a30-ab04-f4d58e30e067"
      },
      "outputs": [],
      "source": [
        "for letter in 'python':\n",
        "  if letter == 'h':\n",
        "    pass\n",
        "    print(\" This block is pass block\")\n",
        "  print(\"current letter \", letter)\n",
        "\n",
        "print(\"Out of loop\")"
      ]
    },
    {
      "attachments": {},
      "cell_type": "markdown",
      "metadata": {},
      "source": [
        "Break"
      ]
    },
    {
      "cell_type": "code",
      "execution_count": null,
      "metadata": {
        "colab": {
          "base_uri": "https://localhost:8080/"
        },
        "id": "mlyiC5RmtbXP",
        "outputId": "f92634f6-4bf5-443b-ac30-8509b48dbce9"
      },
      "outputs": [],
      "source": [
        "string=\"PYTHON\"\n",
        "for char in string:\n",
        "  if char !='H':\n",
        "    print(char, end='\\n\\n')\n",
        "  else:\n",
        "    break"
      ]
    },
    {
      "cell_type": "code",
      "execution_count": null,
      "metadata": {
        "colab": {
          "base_uri": "https://localhost:8080/"
        },
        "id": "qXt7i_XauJ4f",
        "outputId": "d5fec9d2-6022-44b5-e550-b8fddeef2933"
      },
      "outputs": [],
      "source": [
        "fruits=[\"banana\", \"orange\",\"apple\"]\n",
        "for i in fruits:\n",
        "  print(i)\n",
        "  print(i.upper())"
      ]
    },
    {
      "attachments": {},
      "cell_type": "markdown",
      "metadata": {},
      "source": [
        "With the continue statement we can stop the current iteration of the loop, and continue with the next"
      ]
    },
    {
      "cell_type": "code",
      "execution_count": 50,
      "metadata": {
        "colab": {
          "base_uri": "https://localhost:8080/"
        },
        "id": "7DY-qyyXtY-X",
        "outputId": "06057e65-9b94-4aa6-c909-7848c73985ab"
      },
      "outputs": [
        {
          "name": "stdout",
          "output_type": "stream",
          "text": [
            "red apple\n",
            "red cherry\n",
            "red orange\n",
            "big apple\n",
            "big cherry\n",
            "big orange\n",
            "tasty apple\n",
            "tasty cherry\n",
            "tasty orange\n"
          ]
        }
      ],
      "source": [
        "adjectives=[\"red\",\"big\",\"tasty\"]\n",
        "fruits=[\"apple\",\"banana\",\"cherry\",\"orange\"]\n",
        "for i in adjectives:\n",
        "  for y in fruits:\n",
        "    if y == \"banana\":\n",
        "      continue\n",
        "    print(i,y)"
      ]
    },
    {
      "cell_type": "code",
      "execution_count": null,
      "metadata": {
        "colab": {
          "base_uri": "https://localhost:8080/"
        },
        "id": "GYPRDycrv5Aj",
        "outputId": "76838810-4f1a-44bd-8aaf-930d823cbc20"
      },
      "outputs": [],
      "source": [
        "x = range(10,41,2)\n",
        "print(\"printing the numbers:\")\n",
        "for i in x:\n",
        "  print(i)"
      ]
    },
    {
      "cell_type": "code",
      "execution_count": null,
      "metadata": {
        "colab": {
          "base_uri": "https://localhost:8080/"
        },
        "id": "spR_p2srwOT4",
        "outputId": "9efc8c77-812d-46de-cf0d-c8a473441161"
      },
      "outputs": [],
      "source": [
        "for i in range(2,10):\n",
        "  print(i)"
      ]
    },
    {
      "attachments": {},
      "cell_type": "markdown",
      "metadata": {
        "id": "-xvi9IpTy_Ss"
      },
      "source": [
        "### Function\n",
        "\n",
        "In-built and User defined"
      ]
    },
    {
      "attachments": {},
      "cell_type": "markdown",
      "metadata": {},
      "source": [
        "Mathemtical functions"
      ]
    },
    {
      "cell_type": "code",
      "execution_count": null,
      "metadata": {
        "colab": {
          "base_uri": "https://localhost:8080/"
        },
        "id": "YFSdXx1KzCri",
        "outputId": "797fb320-09ff-479c-c55b-379af3b8bb74"
      },
      "outputs": [],
      "source": [
        "import math\n",
        "\n",
        "print(\"abs(-45):\", abs(-45))\n",
        "print(\"abs(100.12)\",abs(100.12))"
      ]
    },
    {
      "cell_type": "code",
      "execution_count": null,
      "metadata": {
        "colab": {
          "base_uri": "https://localhost:8080/"
        },
        "id": "v4_wpeF0z1vp",
        "outputId": "83bf343b-4599-4fc9-f88b-14b2cca37f11"
      },
      "outputs": [],
      "source": [
        "print(\"ceil(-45.17))\",math.ceil(-45.17))\n",
        "print(\"ceil(45.17))\",math.ceil(45.17))\n",
        "print(\"ceil(pi)\",math.ceil(math.pi))"
      ]
    },
    {
      "cell_type": "code",
      "execution_count": null,
      "metadata": {
        "colab": {
          "base_uri": "https://localhost:8080/"
        },
        "id": "Jeu1S1ii1IPN",
        "outputId": "4dd9fe67-fd17-4ba1-b72e-f59ee5652711"
      },
      "outputs": [],
      "source": [
        "math.exp(2)"
      ]
    },
    {
      "cell_type": "code",
      "execution_count": null,
      "metadata": {
        "colab": {
          "base_uri": "https://localhost:8080/"
        },
        "id": "j34vamtO1iBP",
        "outputId": "2dc2c2d3-36bb-45e7-d3a5-bcd3307b5223"
      },
      "outputs": [],
      "source": [
        "math.exp(-2)"
      ]
    },
    {
      "cell_type": "code",
      "execution_count": null,
      "metadata": {
        "colab": {
          "base_uri": "https://localhost:8080/"
        },
        "id": "8uqqKkqw1t1a",
        "outputId": "4e1d95de-f69b-4ab2-fdcb-337f7cb95ffd"
      },
      "outputs": [],
      "source": [
        "math.fabs(100.2)"
      ]
    },
    {
      "cell_type": "code",
      "execution_count": null,
      "metadata": {
        "colab": {
          "base_uri": "https://localhost:8080/"
        },
        "id": "_rfotrlB141q",
        "outputId": "e9d688ab-84b9-4036-b1c7-caa29625b989"
      },
      "outputs": [],
      "source": [
        "print(\"max(80,100,1000):\", max(80,100,1000))\n",
        "print(\"max(-80,-100,-1000):\", min(-80,-100,-1000))"
      ]
    },
    {
      "cell_type": "code",
      "execution_count": null,
      "metadata": {
        "colab": {
          "base_uri": "https://localhost:8080/"
        },
        "id": "OgKBCwh52aiq",
        "outputId": "4d1a1fe8-b137-41c8-a644-5f7485214fd3"
      },
      "outputs": [],
      "source": [
        "print(math.floor(4.2))\n",
        "print(math.ceil(4.2))"
      ]
    },
    {
      "cell_type": "code",
      "execution_count": null,
      "metadata": {
        "colab": {
          "base_uri": "https://localhost:8080/"
        },
        "id": "qrVR64342qlt",
        "outputId": "536016c2-a1e2-4c33-c236-d08ab82de1d9"
      },
      "outputs": [],
      "source": [
        "print(math.pow(100,2))\n",
        "print(math.pow(100,-2))"
      ]
    },
    {
      "attachments": {},
      "cell_type": "markdown",
      "metadata": {
        "id": "e_sG9b_P4qih"
      },
      "source": [
        "### Random Number functions"
      ]
    },
    {
      "cell_type": "code",
      "execution_count": null,
      "metadata": {
        "colab": {
          "base_uri": "https://localhost:8080/"
        },
        "id": "AH5jac9E4svT",
        "outputId": "97bd17cf-54d3-498b-8187-47b2437d40bb"
      },
      "outputs": [],
      "source": [
        "import random\n",
        "print(\"choice[1,2,3,5,9]\", random.choice([1,2,3,5,9]))\n",
        "\n",
        "id = ''\n",
        "\n",
        "for i in range(32):\n",
        "    c = random.choice(\"abcdefghijklmnopqrstuvwxyz123456789\")\n",
        "    id += c\n",
        "\n",
        "print(id)"
      ]
    },
    {
      "cell_type": "code",
      "execution_count": null,
      "metadata": {
        "colab": {
          "base_uri": "https://localhost:8080/"
        },
        "id": "NnoBpr_m5iDe",
        "outputId": "00cbea4a-6257-4bd2-95b6-6b96f5e0a495"
      },
      "outputs": [],
      "source": [
        "print(\"rnadom range (100,1000,2)\", random.randrange(101,1000,2))"
      ]
    },
    {
      "cell_type": "code",
      "execution_count": null,
      "metadata": {
        "id": "ecczDrIi6CxO"
      },
      "outputs": [],
      "source": [
        "#create a random number between 100 and 1000 which are divsible by 6"
      ]
    },
    {
      "cell_type": "code",
      "execution_count": null,
      "metadata": {
        "colab": {
          "base_uri": "https://localhost:8080/"
        },
        "id": "nxxvL1We7I9n",
        "outputId": "69b6dfe9-e989-4756-a36f-57edc9a0a6dc"
      },
      "outputs": [],
      "source": [
        "random.seed(20)\n",
        "print(\"First random Number \", random.random())\n",
        "print(\"Second random Number \", random.random())"
      ]
    },
    {
      "cell_type": "code",
      "execution_count": null,
      "metadata": {
        "colab": {
          "base_uri": "https://localhost:8080/"
        },
        "id": "i7svtPS_8tjC",
        "outputId": "68ffebed-f8d0-4a56-b14e-72e9863aa3b5"
      },
      "outputs": [],
      "source": [
        "list= [20,16,10,23,5]\n",
        "print(list)\n",
        "random.shuffle(list)\n",
        "print(list)"
      ]
    },
    {
      "cell_type": "code",
      "execution_count": null,
      "metadata": {
        "colab": {
          "base_uri": "https://localhost:8080/"
        },
        "id": "ueGxSBhF9Mqa",
        "outputId": "6e081940-d652-4434-be99-bbd962577db2"
      },
      "outputs": [],
      "source": [
        "print(random.uniform(5,20))"
      ]
    },
    {
      "attachments": {},
      "cell_type": "markdown",
      "metadata": {
        "id": "0pCdmsaz-2_3"
      },
      "source": [
        "### Trignometric Functions"
      ]
    },
    {
      "cell_type": "code",
      "execution_count": null,
      "metadata": {
        "colab": {
          "base_uri": "https://localhost:8080/"
        },
        "id": "0aYDValt-6LP",
        "outputId": "b50aa8bf-4701-404e-93e9-5630504c91a3"
      },
      "outputs": [],
      "source": [
        "import math\n",
        "print(\"acos(-1)\",math.acos(-1))\n",
        "print(\"cos(0)\",math.cos(0))\n",
        "print(\"hypotenuse(3,4)\",math.hypot(3,4))\n",
        "print(\"degrees(pi/4)\",math.degrees(math.pi/4))\n",
        "print(\"radian(45)\",math.radians(45))"
      ]
    },
    {
      "cell_type": "code",
      "execution_count": null,
      "metadata": {
        "colab": {
          "base_uri": "https://localhost:8080/"
        },
        "id": "XD4fIneyg_c9",
        "outputId": "63f8bb57-292d-426e-ef47-199373a06780"
      },
      "outputs": [],
      "source": [
        "sum_even = sum([k for k in range(11) if k%2==0])\n",
        "print(sum_even)"
      ]
    },
    {
      "attachments": {},
      "cell_type": "markdown",
      "metadata": {
        "id": "uHD89Np5hwLy"
      },
      "source": [
        "### Python Strings"
      ]
    },
    {
      "cell_type": "code",
      "execution_count": null,
      "metadata": {
        "colab": {
          "base_uri": "https://localhost:8080/"
        },
        "id": "_U70mwHzjcJo",
        "outputId": "b66e1822-bf08-406c-deb9-5dae2ff67171"
      },
      "outputs": [],
      "source": [
        "var1 =\"Hello World\"\n",
        "var2 = \"python Programmiing\"\n",
        "print(\"var1[0]:\", var1[0])\n",
        "print(\"var2[3:12] :\",var2[3:12])\n",
        "print(var2[-8:])\n",
        "print(var2[-8:-12:-1])"
      ]
    },
    {
      "cell_type": "code",
      "execution_count": null,
      "metadata": {
        "colab": {
          "base_uri": "https://localhost:8080/"
        },
        "id": "9iAPtbn1k49D",
        "outputId": "552a84b6-6d57-4a73-ee67-5385d970300f"
      },
      "outputs": [],
      "source": [
        "print(\"Updating string\",var1[:6]+'students')"
      ]
    },
    {
      "cell_type": "code",
      "execution_count": null,
      "metadata": {
        "colab": {
          "base_uri": "https://localhost:8080/"
        },
        "id": "Q7rEMcNklWya",
        "outputId": "ad9752b4-0a63-47c2-ce73-9041e48603ff"
      },
      "outputs": [],
      "source": [
        "str = \"this is a string example\"\n",
        "print(str.capitalize())"
      ]
    },
    {
      "cell_type": "code",
      "execution_count": null,
      "metadata": {
        "colab": {
          "base_uri": "https://localhost:8080/"
        },
        "id": "k9WFJGjUl3Df",
        "outputId": "6f15c68b-c92e-4724-875b-988b99832952"
      },
      "outputs": [],
      "source": [
        "str = \"this is a string example\"\n",
        "sub = ' '\n",
        "print(str.count(sub))"
      ]
    },
    {
      "cell_type": "code",
      "execution_count": null,
      "metadata": {
        "colab": {
          "base_uri": "https://localhost:8080/"
        },
        "id": "jwO4nPFznPQa",
        "outputId": "8314ebc9-f51b-43e5-bd31-e9acdf2e4ffb"
      },
      "outputs": [],
      "source": [
        "suffix=\"is\"\n",
        "print(str.endswith(suffix,2,4))\n",
        "print(str.endswith(suffix,2,9))"
      ]
    },
    {
      "cell_type": "code",
      "execution_count": null,
      "metadata": {
        "colab": {
          "base_uri": "https://localhost:8080/"
        },
        "id": "ChGSEWZRouwG",
        "outputId": "76adfd8e-ede8-481e-d4dc-c52b9efddee4"
      },
      "outputs": [],
      "source": [
        "str1=\"this is string example\"\n",
        "str2=\"is\"\n",
        "print(str1.find(str2))\n",
        "print(str1.index(str2))\n",
        "\n",
        "#print(str1.find(str2,40))\n",
        "#print(str1.index(str2,40))"
      ]
    },
    {
      "cell_type": "code",
      "execution_count": null,
      "metadata": {
        "colab": {
          "base_uri": "https://localhost:8080/"
        },
        "id": "W7P_uoOgrPQb",
        "outputId": "eb53c853-ba6f-42bd-fc70-3270d4a8e164"
      },
      "outputs": [],
      "source": [
        "str1=\"thisis2022\"\n",
        "print(str1.isalnum())\n",
        "str2=\"This is 2022\"\n",
        "print(str2.isalnum())"
      ]
    },
    {
      "cell_type": "code",
      "execution_count": null,
      "metadata": {
        "colab": {
          "base_uri": "https://localhost:8080/"
        },
        "id": "vb_yvgHsr-Rf",
        "outputId": "1202b225-4541-4649-b8c8-64e2a671724f"
      },
      "outputs": [],
      "source": [
        "str1=\"thisis2022\"\n",
        "print(str1.isalpha())\n",
        "str2=\"Thisis\"\n",
        "print(str2.isalpha())\n"
      ]
    },
    {
      "cell_type": "code",
      "execution_count": null,
      "metadata": {
        "colab": {
          "base_uri": "https://localhost:8080/"
        },
        "id": "fPUdDKAztqag",
        "outputId": "bffcacb3-4c72-41b7-e67a-64e69a43231a"
      },
      "outputs": [],
      "source": [
        "str = \"123456\";  # Only digit in this string\n",
        "print (str.isdigit())\n",
        "str = \"this is string example....wow!!!\"\n",
        "print (str.isdigit())\n",
        "\n",
        "str = \"THIS is string example....wow!!!\"\n",
        "print (str.islower())\n",
        "str = \"this is string example....wow!!!\"\n",
        "print (str.islower())\n",
        "\n",
        "str = \"       \"; \n",
        "print (str.isspace())\n",
        "str = \"This is string example....wow!!!\"\n",
        "print (str.isspace())"
      ]
    },
    {
      "cell_type": "code",
      "execution_count": null,
      "metadata": {
        "colab": {
          "base_uri": "https://localhost:8080/"
        },
        "id": "mYiIUCgkuuRA",
        "outputId": "327d8cc0-f64d-43e1-f2cd-85b3f6b48228"
      },
      "outputs": [],
      "source": [
        "str = \"this is string example....wow!!!\"\n",
        "print (\"Length of the string: \", len(str))\n",
        "\n",
        "str = \"THIS IS STRING EXAMPLE....WOW!!!\"\n",
        "print (str.lower())\n",
        "\n",
        "\n",
        "str = \"     this is string example....wow!!!     \"\n",
        "print (str.lstrip())\n",
        "str = \"88888888this is string example....wow!!!8888888\"\n",
        "print (str.lstrip('8'))"
      ]
    }
  ],
  "metadata": {
    "colab": {
      "collapsed_sections": [
        "v93N9-yh6mf4",
        "yGbmhSgdbu_h",
        "-xvi9IpTy_Ss",
        "I7mayY2Ivy2h"
      ],
      "provenance": []
    },
    "kernelspec": {
      "display_name": "Python 3",
      "language": "python",
      "name": "python3"
    },
    "language_info": {
      "codemirror_mode": {
        "name": "ipython",
        "version": 3
      },
      "file_extension": ".py",
      "mimetype": "text/x-python",
      "name": "python",
      "nbconvert_exporter": "python",
      "pygments_lexer": "ipython3",
      "version": "3.11.1"
    },
    "vscode": {
      "interpreter": {
        "hash": "52634da84371cba311ea128a5ea7cdc41ff074b781779e754b270ff9f8153cee"
      }
    }
  },
  "nbformat": 4,
  "nbformat_minor": 0
}
